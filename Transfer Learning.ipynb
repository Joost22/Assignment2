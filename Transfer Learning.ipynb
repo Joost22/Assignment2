{
 "cells": [
  {
   "cell_type": "code",
   "execution_count": 153,
   "id": "7f980572",
   "metadata": {},
   "outputs": [],
   "source": [
    "#Importing libraries\n",
    "import numpy as np\n",
    "import pandas as pd\n",
    "\n",
    "import os\n",
    "import random\n",
    "from operator import itemgetter\n",
    "import copy\n",
    "import time\n",
    "\n",
    "import torch\n",
    "import torchvision\n",
    "import torchvision.transforms as transform\n",
    "from torchvision.datasets import ImageFolder\n",
    "from torch.utils.data import DataLoader, Dataset, ConcatDataset\n",
    "import torch.nn as nn\n",
    "import torchvision.models as models\n",
    "from torchvision.utils import make_grid\n",
    "import torch.nn.functional as F\n",
    "import cv2\n",
    "from mlxtend.plotting import plot_confusion_matrix\n",
    "from sklearn.metrics import confusion_matrix, classification_report\n",
    "\n",
    "import matplotlib.pyplot as plt\n",
    "import matplotlib.image as mpimg\n",
    "from matplotlib.image import imread\n",
    "import seaborn as sns\n",
    "from tqdm import tqdm\n",
    "from sklearn.model_selection import train_test_split\n",
    "import tensorflow as tf\n",
    "from keras.models import Sequential\n",
    "from keras import backend as K\n",
    "from keras.models import Sequential\n",
    "from keras.layers import Dense\n",
    "from tensorflow.keras.utils import to_categorical\n",
    "from keras.callbacks import ReduceLROnPlateau\n",
    "from keras.preprocessing.image import ImageDataGenerator\n",
    "from tensorflow.keras.optimizers import Adam, SGD, Adagrad, Adadelta, RMSprop\n",
    "\n",
    "\n",
    "from keras.layers import Dropout, Flatten,Activation\n",
    "from keras.layers import Conv2D, MaxPooling2D, BatchNormalization"
   ]
  },
  {
   "cell_type": "code",
   "execution_count": 154,
   "id": "c5fc08d7",
   "metadata": {},
   "outputs": [],
   "source": [
    "#Image directories\n",
    "X = []\n",
    "Z = []\n",
    "\n",
    "Image_Size = 150\n",
    "\n",
    "Daisy_Dir = '/Users/joostberkelbach/Documents/Machine Learning/Assignment 2/flowers/daisy'\n",
    "Dandelion_Dir = '/Users/joostberkelbach/Documents/Machine Learning/Assignment 2/flowers/dandelion'\n",
    "Rose_Dir = '/Users/joostberkelbach/Documents/Machine Learning/Assignment 2/flowers/rose'\n",
    "Sunflower_Dir = '/Users/joostberkelbach/Documents/Machine Learning/Assignment 2/flowers/sunflower'\n",
    "Tulip_Dir = '/Users/joostberkelbach/Documents/Machine Learning/Assignment 2/flowers/tulip'"
   ]
  },
  {
   "cell_type": "code",
   "execution_count": 155,
   "id": "14a97547",
   "metadata": {},
   "outputs": [],
   "source": [
    "#Label assigner\n",
    "def Assign_Label(Image,Flower_Type):\n",
    "    return Flower_Type"
   ]
  },
  {
   "cell_type": "code",
   "execution_count": 156,
   "id": "9f91ac39",
   "metadata": {},
   "outputs": [],
   "source": [
    "def Make_Train_Data(Flower_Type, Dir):\n",
    "    for Image in tqdm(os.listdir(Dir)):\n",
    "        Label = Assign_Label(Image, Flower_Type)\n",
    "        Path = os.path.join(Dir, Image)\n",
    "        Image = cv2.imread(Path, cv2.IMREAD_COLOR)\n",
    "        Image = cv2.resize(Image, (Image_Size, Image_Size))\n",
    "        \n",
    "        X.append(np.array(Image))\n",
    "        Z.append(str(Label))"
   ]
  },
  {
   "cell_type": "code",
   "execution_count": 157,
   "id": "f06f0a43",
   "metadata": {},
   "outputs": [
    {
     "name": "stderr",
     "output_type": "stream",
     "text": [
      "100%|██████████| 764/764 [00:01<00:00, 503.26it/s]\n"
     ]
    }
   ],
   "source": [
    "#Gathering image data\n",
    "Make_Train_Data('Daisy',Daisy_Dir)"
   ]
  },
  {
   "cell_type": "code",
   "execution_count": 158,
   "id": "f01c549d",
   "metadata": {},
   "outputs": [
    {
     "name": "stderr",
     "output_type": "stream",
     "text": [
      "100%|██████████| 1052/1052 [00:02<00:00, 467.53it/s]\n"
     ]
    }
   ],
   "source": [
    "Make_Train_Data('Dandelion', Dandelion_Dir)"
   ]
  },
  {
   "cell_type": "code",
   "execution_count": 159,
   "id": "17efa99b",
   "metadata": {},
   "outputs": [
    {
     "name": "stderr",
     "output_type": "stream",
     "text": [
      "100%|██████████| 784/784 [00:01<00:00, 490.36it/s]\n"
     ]
    }
   ],
   "source": [
    "Make_Train_Data('Rose', Rose_Dir)"
   ]
  },
  {
   "cell_type": "code",
   "execution_count": 160,
   "id": "9c30b2f5",
   "metadata": {},
   "outputs": [
    {
     "name": "stderr",
     "output_type": "stream",
     "text": [
      "100%|██████████| 733/733 [00:01<00:00, 391.98it/s]\n"
     ]
    }
   ],
   "source": [
    "Make_Train_Data('Sunflower', Sunflower_Dir)"
   ]
  },
  {
   "cell_type": "code",
   "execution_count": 161,
   "id": "04b2abb2",
   "metadata": {},
   "outputs": [
    {
     "name": "stderr",
     "output_type": "stream",
     "text": [
      "100%|██████████| 984/984 [00:02<00:00, 453.42it/s]\n"
     ]
    }
   ],
   "source": [
    "Make_Train_Data('Tulip', Tulip_Dir)"
   ]
  },
  {
   "cell_type": "code",
   "execution_count": 162,
   "id": "bc53ec1e",
   "metadata": {},
   "outputs": [],
   "source": [
    "from sklearn.preprocessing import LabelEncoder\n",
    "\n",
    "\n",
    "LE = LabelEncoder()\n",
    "Y = LE.fit_transform(Z)\n",
    "Y = to_categorical(Y,5)\n",
    "X = np.array(X)\n",
    "X = X/255"
   ]
  },
  {
   "cell_type": "code",
   "execution_count": 163,
   "id": "e082d00b",
   "metadata": {},
   "outputs": [],
   "source": [
    "#Splitting the dataset into a training set (80%) and testing set (20%)\n",
    "X_Train,X_Test,Y_Train,Y_Test=train_test_split(X,Y,test_size=0.20,random_state=43)"
   ]
  },
  {
   "cell_type": "code",
   "execution_count": 164,
   "id": "65d9aa25",
   "metadata": {},
   "outputs": [],
   "source": [
    "import random as rn\n",
    "np.random.seed(43)\n",
    "rn.seed(43)\n",
    "tf.random.set_seed(43)"
   ]
  },
  {
   "cell_type": "code",
   "execution_count": 165,
   "id": "ce475302",
   "metadata": {},
   "outputs": [
    {
     "name": "stdout",
     "output_type": "stream",
     "text": [
      "Model: \"vgg16\"\n",
      "_________________________________________________________________\n",
      " Layer (type)                Output Shape              Param #   \n",
      "=================================================================\n",
      " input_13 (InputLayer)       [(None, 150, 150, 3)]     0         \n",
      "                                                                 \n",
      " block1_conv1 (Conv2D)       (None, 150, 150, 64)      1792      \n",
      "                                                                 \n",
      " block1_conv2 (Conv2D)       (None, 150, 150, 64)      36928     \n",
      "                                                                 \n",
      " block1_pool (MaxPooling2D)  (None, 75, 75, 64)        0         \n",
      "                                                                 \n",
      " block2_conv1 (Conv2D)       (None, 75, 75, 128)       73856     \n",
      "                                                                 \n",
      " block2_conv2 (Conv2D)       (None, 75, 75, 128)       147584    \n",
      "                                                                 \n",
      " block2_pool (MaxPooling2D)  (None, 37, 37, 128)       0         \n",
      "                                                                 \n",
      " block3_conv1 (Conv2D)       (None, 37, 37, 256)       295168    \n",
      "                                                                 \n",
      " block3_conv2 (Conv2D)       (None, 37, 37, 256)       590080    \n",
      "                                                                 \n",
      " block3_conv3 (Conv2D)       (None, 37, 37, 256)       590080    \n",
      "                                                                 \n",
      " block3_pool (MaxPooling2D)  (None, 18, 18, 256)       0         \n",
      "                                                                 \n",
      " block4_conv1 (Conv2D)       (None, 18, 18, 512)       1180160   \n",
      "                                                                 \n",
      " block4_conv2 (Conv2D)       (None, 18, 18, 512)       2359808   \n",
      "                                                                 \n",
      " block4_conv3 (Conv2D)       (None, 18, 18, 512)       2359808   \n",
      "                                                                 \n",
      " block4_pool (MaxPooling2D)  (None, 9, 9, 512)         0         \n",
      "                                                                 \n",
      " block5_conv1 (Conv2D)       (None, 9, 9, 512)         2359808   \n",
      "                                                                 \n",
      " block5_conv2 (Conv2D)       (None, 9, 9, 512)         2359808   \n",
      "                                                                 \n",
      " block5_conv3 (Conv2D)       (None, 9, 9, 512)         2359808   \n",
      "                                                                 \n",
      " block5_pool (MaxPooling2D)  (None, 4, 4, 512)         0         \n",
      "                                                                 \n",
      " global_average_pooling2d_4   (None, 512)              0         \n",
      " (GlobalAveragePooling2D)                                        \n",
      "                                                                 \n",
      "=================================================================\n",
      "Total params: 14,714,688\n",
      "Trainable params: 14,714,688\n",
      "Non-trainable params: 0\n",
      "_________________________________________________________________\n"
     ]
    }
   ],
   "source": [
    "#Getting the pre-trained model and changing the starting layer\n",
    "base_model=VGG16(include_top=False, weights=\"imagenet\",input_shape=(Image_Size,Image_Size,3), pooling='avg')\n",
    "base_model.summary()"
   ]
  },
  {
   "cell_type": "code",
   "execution_count": 166,
   "id": "f5add39b",
   "metadata": {
    "scrolled": true
   },
   "outputs": [],
   "source": [
    "#Adding two dense layers to the end of the code\n",
    "model=Sequential()\n",
    "model.add(base_model)\n",
    "\n",
    "model.add(Dense(256,activation='relu'))\n",
    "model.add(Dense(5,activation='softmax'))"
   ]
  },
  {
   "cell_type": "code",
   "execution_count": 167,
   "id": "9b3aab9d",
   "metadata": {},
   "outputs": [],
   "source": [
    "#Preprocessing of the training set\n",
    "datagen = ImageDataGenerator(\n",
    "        featurewise_center=False,  \n",
    "        samplewise_center=False,  \n",
    "        featurewise_std_normalization=False,  \n",
    "        samplewise_std_normalization=False,  \n",
    "        zca_whitening=False,  \n",
    "        rotation_range=10, \n",
    "        zoom_range = 0.1, \n",
    "        width_shift_range=0.2,  \n",
    "        height_shift_range=0.2,  \n",
    "        horizontal_flip=True,  \n",
    "        vertical_flip=False)  \n",
    "\n",
    "datagen.fit(X_Train)"
   ]
  },
  {
   "cell_type": "code",
   "execution_count": 168,
   "id": "ca649a63",
   "metadata": {},
   "outputs": [
    {
     "name": "stdout",
     "output_type": "stream",
     "text": [
      "WARNING:tensorflow:`epsilon` argument is deprecated and will be removed, use `min_delta` instead.\n"
     ]
    }
   ],
   "source": [
    "#Setting the training parameters\n",
    "epochs=50\n",
    "batch_size=128\n",
    "red_lr=ReduceLROnPlateau(monitor='val_acc', factor=0.1, epsilon=0.0001, patience=2, verbose=1)"
   ]
  },
  {
   "cell_type": "code",
   "execution_count": 169,
   "id": "2e40f137",
   "metadata": {},
   "outputs": [
    {
     "name": "stdout",
     "output_type": "stream",
     "text": [
      "Model: \"sequential_10\"\n",
      "_________________________________________________________________\n",
      " Layer (type)                Output Shape              Param #   \n",
      "=================================================================\n",
      " vgg16 (Functional)          (None, 512)               14714688  \n",
      "                                                                 \n",
      " dense_16 (Dense)            (None, 256)               131328    \n",
      "                                                                 \n",
      " dense_17 (Dense)            (None, 5)                 1285      \n",
      "                                                                 \n",
      "=================================================================\n",
      "Total params: 14,847,301\n",
      "Trainable params: 14,847,301\n",
      "Non-trainable params: 0\n",
      "_________________________________________________________________\n"
     ]
    }
   ],
   "source": [
    "model.summary()"
   ]
  },
  {
   "cell_type": "code",
   "execution_count": 170,
   "id": "8207c385",
   "metadata": {},
   "outputs": [],
   "source": [
    "#Freezing the VGG16 model\n",
    "base_model.trainable=False # setting the Resnet to be untrainable."
   ]
  },
  {
   "cell_type": "code",
   "execution_count": 171,
   "id": "541e56a3",
   "metadata": {},
   "outputs": [],
   "source": [
    "model.compile(optimizer=Adam(learning_rate=1e-4),loss='categorical_crossentropy',metrics=['accuracy'])"
   ]
  },
  {
   "cell_type": "code",
   "execution_count": 172,
   "id": "f322a856",
   "metadata": {},
   "outputs": [
    {
     "name": "stdout",
     "output_type": "stream",
     "text": [
      "Epoch 1/50\n",
      "26/26 [==============================] - 123s 5s/step - loss: 1.6114 - accuracy: 0.2749 - val_loss: 1.5373 - val_accuracy: 0.3924\n",
      "Epoch 2/50\n",
      "26/26 [==============================] - 115s 4s/step - loss: 1.4790 - accuracy: 0.4505 - val_loss: 1.4190 - val_accuracy: 0.4977\n",
      "Epoch 3/50\n",
      "26/26 [==============================] - 116s 4s/step - loss: 1.3632 - accuracy: 0.5462 - val_loss: 1.3093 - val_accuracy: 0.5729\n",
      "Epoch 4/50\n",
      "26/26 [==============================] - 117s 5s/step - loss: 1.2689 - accuracy: 0.5820 - val_loss: 1.2182 - val_accuracy: 0.6134\n",
      "Epoch 5/50\n",
      "26/26 [==============================] - 116s 5s/step - loss: 1.1800 - accuracy: 0.6171 - val_loss: 1.1328 - val_accuracy: 0.6354\n",
      "Epoch 6/50\n",
      "26/26 [==============================] - 120s 5s/step - loss: 1.1047 - accuracy: 0.6418 - val_loss: 1.0622 - val_accuracy: 0.6528\n",
      "Epoch 7/50\n",
      "26/26 [==============================] - 116s 4s/step - loss: 1.0448 - accuracy: 0.6550 - val_loss: 1.0073 - val_accuracy: 0.6690\n",
      "Epoch 8/50\n",
      "26/26 [==============================] - 116s 4s/step - loss: 0.9947 - accuracy: 0.6692 - val_loss: 0.9616 - val_accuracy: 0.6759\n",
      "Epoch 9/50\n",
      "26/26 [==============================] - 119s 5s/step - loss: 0.9561 - accuracy: 0.6812 - val_loss: 0.9223 - val_accuracy: 0.6968\n",
      "Epoch 10/50\n",
      "26/26 [==============================] - 123s 5s/step - loss: 0.9177 - accuracy: 0.6866 - val_loss: 0.8921 - val_accuracy: 0.6944\n",
      "Epoch 11/50\n",
      "26/26 [==============================] - 122s 5s/step - loss: 0.8894 - accuracy: 0.7008 - val_loss: 0.8648 - val_accuracy: 0.7025\n",
      "Epoch 12/50\n",
      "26/26 [==============================] - 117s 5s/step - loss: 0.8747 - accuracy: 0.7023 - val_loss: 0.8331 - val_accuracy: 0.7130\n",
      "Epoch 13/50\n",
      "26/26 [==============================] - 131s 5s/step - loss: 0.8447 - accuracy: 0.7143 - val_loss: 0.8144 - val_accuracy: 0.7211\n",
      "Epoch 14/50\n",
      "26/26 [==============================] - 122s 5s/step - loss: 0.8169 - accuracy: 0.7218 - val_loss: 0.8012 - val_accuracy: 0.7269\n",
      "Epoch 15/50\n",
      "26/26 [==============================] - 118s 5s/step - loss: 0.8070 - accuracy: 0.7287 - val_loss: 0.7753 - val_accuracy: 0.7338\n",
      "Epoch 16/50\n",
      "26/26 [==============================] - 119s 5s/step - loss: 0.7831 - accuracy: 0.7350 - val_loss: 0.7564 - val_accuracy: 0.7431\n",
      "Epoch 17/50\n",
      "26/26 [==============================] - 121s 5s/step - loss: 0.7662 - accuracy: 0.7371 - val_loss: 0.7458 - val_accuracy: 0.7419\n",
      "Epoch 18/50\n",
      "26/26 [==============================] - 121s 5s/step - loss: 0.7555 - accuracy: 0.7447 - val_loss: 0.7301 - val_accuracy: 0.7465\n",
      "Epoch 19/50\n",
      "26/26 [==============================] - 124s 5s/step - loss: 0.7330 - accuracy: 0.7540 - val_loss: 0.7244 - val_accuracy: 0.7512\n",
      "Epoch 20/50\n",
      "26/26 [==============================] - 122s 5s/step - loss: 0.7313 - accuracy: 0.7492 - val_loss: 0.7127 - val_accuracy: 0.7500\n",
      "Epoch 21/50\n",
      "26/26 [==============================] - 123s 5s/step - loss: 0.7141 - accuracy: 0.7591 - val_loss: 0.7086 - val_accuracy: 0.7616\n",
      "Epoch 22/50\n",
      "26/26 [==============================] - 124s 5s/step - loss: 0.7054 - accuracy: 0.7573 - val_loss: 0.6888 - val_accuracy: 0.7639\n",
      "Epoch 23/50\n",
      "26/26 [==============================] - 124s 5s/step - loss: 0.7025 - accuracy: 0.7554 - val_loss: 0.6857 - val_accuracy: 0.7627\n",
      "Epoch 24/50\n",
      "26/26 [==============================] - 125s 5s/step - loss: 0.6754 - accuracy: 0.7630 - val_loss: 0.6778 - val_accuracy: 0.7697\n",
      "Epoch 25/50\n",
      "26/26 [==============================] - 125s 5s/step - loss: 0.6834 - accuracy: 0.7609 - val_loss: 0.6672 - val_accuracy: 0.7639\n",
      "Epoch 26/50\n",
      "26/26 [==============================] - 126s 5s/step - loss: 0.6681 - accuracy: 0.7744 - val_loss: 0.6697 - val_accuracy: 0.7674\n",
      "Epoch 27/50\n",
      "26/26 [==============================] - 127s 5s/step - loss: 0.6688 - accuracy: 0.7675 - val_loss: 0.6503 - val_accuracy: 0.7731\n",
      "Epoch 28/50\n",
      "26/26 [==============================] - 127s 5s/step - loss: 0.6617 - accuracy: 0.7606 - val_loss: 0.6475 - val_accuracy: 0.7836\n",
      "Epoch 29/50\n",
      "26/26 [==============================] - 127s 5s/step - loss: 0.6512 - accuracy: 0.7720 - val_loss: 0.6393 - val_accuracy: 0.7743\n",
      "Epoch 30/50\n",
      "26/26 [==============================] - 127s 5s/step - loss: 0.6412 - accuracy: 0.7765 - val_loss: 0.6311 - val_accuracy: 0.7766\n",
      "Epoch 31/50\n",
      "26/26 [==============================] - 129s 5s/step - loss: 0.6339 - accuracy: 0.7798 - val_loss: 0.6294 - val_accuracy: 0.7824\n",
      "Epoch 32/50\n",
      "26/26 [==============================] - 128s 5s/step - loss: 0.6432 - accuracy: 0.7741 - val_loss: 0.6231 - val_accuracy: 0.7894\n",
      "Epoch 33/50\n",
      "26/26 [==============================] - 129s 5s/step - loss: 0.6240 - accuracy: 0.7812 - val_loss: 0.6241 - val_accuracy: 0.7836\n",
      "Epoch 34/50\n",
      "26/26 [==============================] - 128s 5s/step - loss: 0.6279 - accuracy: 0.7771 - val_loss: 0.6148 - val_accuracy: 0.7812\n",
      "Epoch 35/50\n",
      "26/26 [==============================] - 127s 5s/step - loss: 0.6122 - accuracy: 0.7883 - val_loss: 0.6163 - val_accuracy: 0.7870\n",
      "Epoch 36/50\n",
      "26/26 [==============================] - 129s 5s/step - loss: 0.6087 - accuracy: 0.7832 - val_loss: 0.6102 - val_accuracy: 0.7882\n",
      "Epoch 37/50\n",
      "26/26 [==============================] - 131s 5s/step - loss: 0.6027 - accuracy: 0.7895 - val_loss: 0.6034 - val_accuracy: 0.7870\n",
      "Epoch 38/50\n",
      "26/26 [==============================] - 139s 5s/step - loss: 0.5977 - accuracy: 0.7940 - val_loss: 0.5935 - val_accuracy: 0.7894\n",
      "Epoch 39/50\n",
      "26/26 [==============================] - 137s 5s/step - loss: 0.6049 - accuracy: 0.7806 - val_loss: 0.5955 - val_accuracy: 0.7847\n",
      "Epoch 40/50\n",
      "26/26 [==============================] - 133s 5s/step - loss: 0.5822 - accuracy: 0.7949 - val_loss: 0.5989 - val_accuracy: 0.7905\n",
      "Epoch 41/50\n",
      "26/26 [==============================] - 131s 5s/step - loss: 0.5968 - accuracy: 0.7802 - val_loss: 0.5896 - val_accuracy: 0.7940\n",
      "Epoch 42/50\n",
      "26/26 [==============================] - 131s 5s/step - loss: 0.5826 - accuracy: 0.7913 - val_loss: 0.5836 - val_accuracy: 0.7917\n",
      "Epoch 43/50\n",
      "26/26 [==============================] - 130s 5s/step - loss: 0.5840 - accuracy: 0.7967 - val_loss: 0.5784 - val_accuracy: 0.7917\n",
      "Epoch 44/50\n",
      "26/26 [==============================] - 130s 5s/step - loss: 0.5807 - accuracy: 0.7868 - val_loss: 0.5780 - val_accuracy: 0.7951\n",
      "Epoch 45/50\n",
      "26/26 [==============================] - 132s 5s/step - loss: 0.5688 - accuracy: 0.8012 - val_loss: 0.5791 - val_accuracy: 0.7917\n",
      "Epoch 46/50\n",
      "26/26 [==============================] - 130s 5s/step - loss: 0.5708 - accuracy: 0.8036 - val_loss: 0.5763 - val_accuracy: 0.7951\n",
      "Epoch 47/50\n",
      "26/26 [==============================] - 131s 5s/step - loss: 0.5492 - accuracy: 0.8066 - val_loss: 0.5675 - val_accuracy: 0.7986\n",
      "Epoch 48/50\n",
      "26/26 [==============================] - 134s 5s/step - loss: 0.5588 - accuracy: 0.8027 - val_loss: 0.5713 - val_accuracy: 0.7951\n",
      "Epoch 49/50\n",
      "26/26 [==============================] - 131s 5s/step - loss: 0.5566 - accuracy: 0.8042 - val_loss: 0.5717 - val_accuracy: 0.7951\n",
      "Epoch 50/50\n",
      "26/26 [==============================] - 132s 5s/step - loss: 0.5577 - accuracy: 0.8000 - val_loss: 0.5644 - val_accuracy: 0.7986\n"
     ]
    }
   ],
   "source": [
    "history = model.fit(datagen.flow(X_Train,Y_Train, batch_size=batch_size),\n",
    "                              epochs = epochs, validation_data = (X_Test,Y_Test),\n",
    "                              verbose = 1, steps_per_epoch=X_Train.shape[0] // batch_size)"
   ]
  },
  {
   "cell_type": "code",
   "execution_count": 173,
   "id": "28905027",
   "metadata": {},
   "outputs": [
    {
     "data": {
      "image/png": "[encoded data removed]",
      "text/plain": [
       "<Figure size 432x288 with 1 Axes>"
      ]
     },
     "metadata": {
      "needs_background": "light"
     },
     "output_type": "display_data"
    }
   ],
   "source": [
    "plt.plot(history.history['loss'])\n",
    "plt.plot(history.history['val_loss'])\n",
    "plt.title('Model Loss')\n",
    "plt.ylabel('Loss')\n",
    "plt.xlabel('Epochs')\n",
    "plt.legend(['train', 'test'])\n",
    "plt.show()"
   ]
  },
  {
   "cell_type": "code",
   "execution_count": 174,
   "id": "7b267522",
   "metadata": {},
   "outputs": [
    {
     "data": {
      "image/png": "[encoded data removed]",
      "text/plain": [
       "<Figure size 432x288 with 1 Axes>"
      ]
     },
     "metadata": {
      "needs_background": "light"
     },
     "output_type": "display_data"
    }
   ],
   "source": [
    "plt.plot(history.history['accuracy'])\n",
    "plt.plot(history.history['val_accuracy'])\n",
    "plt.title('Model Accuracy')\n",
    "plt.ylabel('Accuracy')\n",
    "plt.xlabel('Epochs')\n",
    "plt.legend(['train', 'test'])\n",
    "plt.show()"
   ]
  },
  {
   "cell_type": "code",
   "execution_count": 175,
   "id": "edbc06e5",
   "metadata": {},
   "outputs": [
    {
     "name": "stdout",
     "output_type": "stream",
     "text": [
      "INFO:tensorflow:Assets written to: /Users/joostberkelbach/Documents/Machine Learning/Transfer Learning/Transfer Learning - All layers frozen/assets\n"
     ]
    }
   ],
   "source": [
    "#Save progress\n",
    "from tensorflow import keras\n",
    "model = model\n",
    "model.save('/Users/joostberkelbach/Documents/Machine Learning/Transfer Learning/Transfer Learning - All layers frozen')"
   ]
  },
  {
   "cell_type": "code",
   "execution_count": 176,
   "id": "e5e30093",
   "metadata": {},
   "outputs": [
    {
     "name": "stdout",
     "output_type": "stream",
     "text": [
      "0 <keras.engine.input_layer.InputLayer object at 0x7fdf17a8c550>\n",
      "1 <keras.layers.convolutional.Conv2D object at 0x7fdf17a8cac0>\n",
      "2 <keras.layers.convolutional.Conv2D object at 0x7fe053dbc7c0>\n",
      "3 <keras.layers.pooling.MaxPooling2D object at 0x7fdd03e3bcd0>\n",
      "4 <keras.layers.convolutional.Conv2D object at 0x7fdcf9778820>\n",
      "5 <keras.layers.convolutional.Conv2D object at 0x7fdcf78c73a0>\n",
      "6 <keras.layers.pooling.MaxPooling2D object at 0x7fdcf8357820>\n",
      "7 <keras.layers.convolutional.Conv2D object at 0x7fe053d2fe50>\n",
      "8 <keras.layers.convolutional.Conv2D object at 0x7fe053c83340>\n",
      "9 <keras.layers.convolutional.Conv2D object at 0x7fe053d2fb20>\n",
      "10 <keras.layers.pooling.MaxPooling2D object at 0x7fe053c83040>\n",
      "11 <keras.layers.convolutional.Conv2D object at 0x7fdf2d7b6ca0>\n",
      "12 <keras.layers.convolutional.Conv2D object at 0x7fdcf95ebe20>\n",
      "13 <keras.layers.convolutional.Conv2D object at 0x7fe053d2fd30>\n",
      "14 <keras.layers.pooling.MaxPooling2D object at 0x7fdcf95eba30>\n",
      "15 <keras.layers.convolutional.Conv2D object at 0x7fdcf77e78b0>\n",
      "16 <keras.layers.convolutional.Conv2D object at 0x7fe053d2f490>\n",
      "17 <keras.layers.convolutional.Conv2D object at 0x7fdcf97783d0>\n",
      "18 <keras.layers.pooling.MaxPooling2D object at 0x7fdcf77e7910>\n",
      "19 <keras.layers.pooling.GlobalAveragePooling2D object at 0x7fdcf740c190>\n"
     ]
    }
   ],
   "source": [
    "#Unfreezing last layer\n",
    "for i in range (len(base_model.layers)):\n",
    "    print (i,base_model.layers[i])\n",
    "  \n",
    "for layer in base_model.layers[15:]:\n",
    "    layer.trainable=True\n",
    "for layer in base_model.layers[0:15]:\n",
    "    layer.trainable=False\n",
    "  "
   ]
  },
  {
   "cell_type": "code",
   "execution_count": 177,
   "id": "19cf0301",
   "metadata": {},
   "outputs": [],
   "source": [
    "model.compile(optimizer=Adam(learning_rate=1e-4),loss='categorical_crossentropy',metrics=['accuracy'])"
   ]
  },
  {
   "cell_type": "code",
   "execution_count": 178,
   "id": "f6b5e414",
   "metadata": {},
   "outputs": [
    {
     "name": "stdout",
     "output_type": "stream",
     "text": [
      "Epoch 1/50\n",
      "26/26 [==============================] - 131s 5s/step - loss: 0.5636 - accuracy: 0.7997 - val_loss: 0.5633 - val_accuracy: 0.7975\n",
      "Epoch 2/50\n",
      "26/26 [==============================] - 136s 5s/step - loss: 0.5506 - accuracy: 0.8090 - val_loss: 0.5621 - val_accuracy: 0.7998\n",
      "Epoch 3/50\n",
      "26/26 [==============================] - 132s 5s/step - loss: 0.5407 - accuracy: 0.8096 - val_loss: 0.5524 - val_accuracy: 0.8021\n",
      "Epoch 4/50\n",
      "26/26 [==============================] - 136s 5s/step - loss: 0.5488 - accuracy: 0.8009 - val_loss: 0.5535 - val_accuracy: 0.8009\n",
      "Epoch 5/50\n",
      "26/26 [==============================] - 131s 5s/step - loss: 0.5393 - accuracy: 0.8084 - val_loss: 0.5563 - val_accuracy: 0.7998\n",
      "Epoch 6/50\n",
      "26/26 [==============================] - 131s 5s/step - loss: 0.5294 - accuracy: 0.8135 - val_loss: 0.5506 - val_accuracy: 0.8044\n",
      "Epoch 7/50\n",
      "26/26 [==============================] - 133s 5s/step - loss: 0.5385 - accuracy: 0.8117 - val_loss: 0.5478 - val_accuracy: 0.8056\n",
      "Epoch 8/50\n",
      "26/26 [==============================] - 133s 5s/step - loss: 0.5537 - accuracy: 0.8045 - val_loss: 0.5497 - val_accuracy: 0.8079\n",
      "Epoch 9/50\n",
      "26/26 [==============================] - 134s 5s/step - loss: 0.5313 - accuracy: 0.8126 - val_loss: 0.5502 - val_accuracy: 0.7951\n",
      "Epoch 10/50\n",
      "26/26 [==============================] - 129s 5s/step - loss: 0.5304 - accuracy: 0.8030 - val_loss: 0.5434 - val_accuracy: 0.8056\n",
      "Epoch 11/50\n",
      "26/26 [==============================] - 132s 5s/step - loss: 0.5265 - accuracy: 0.8114 - val_loss: 0.5401 - val_accuracy: 0.8067\n",
      "Epoch 12/50\n",
      "26/26 [==============================] - 132s 5s/step - loss: 0.5287 - accuracy: 0.8093 - val_loss: 0.5386 - val_accuracy: 0.8113\n",
      "Epoch 13/50\n",
      "26/26 [==============================] - 136s 5s/step - loss: 0.5161 - accuracy: 0.8111 - val_loss: 0.5415 - val_accuracy: 0.8032\n",
      "Epoch 14/50\n",
      "26/26 [==============================] - 134s 5s/step - loss: 0.5320 - accuracy: 0.8069 - val_loss: 0.5371 - val_accuracy: 0.8044\n",
      "Epoch 15/50\n",
      "26/26 [==============================] - 130s 5s/step - loss: 0.5165 - accuracy: 0.8173 - val_loss: 0.5381 - val_accuracy: 0.8090\n",
      "Epoch 16/50\n",
      "26/26 [==============================] - 134s 5s/step - loss: 0.5088 - accuracy: 0.8202 - val_loss: 0.5322 - val_accuracy: 0.8137\n",
      "Epoch 17/50\n",
      "26/26 [==============================] - 128s 5s/step - loss: 0.5223 - accuracy: 0.8078 - val_loss: 0.5320 - val_accuracy: 0.8079\n",
      "Epoch 18/50\n",
      "26/26 [==============================] - 128s 5s/step - loss: 0.5050 - accuracy: 0.8205 - val_loss: 0.5317 - val_accuracy: 0.8079\n",
      "Epoch 19/50\n",
      "26/26 [==============================] - 128s 5s/step - loss: 0.5237 - accuracy: 0.8153 - val_loss: 0.5285 - val_accuracy: 0.8160\n",
      "Epoch 20/50\n",
      "26/26 [==============================] - 128s 5s/step - loss: 0.5191 - accuracy: 0.8138 - val_loss: 0.5275 - val_accuracy: 0.8090\n",
      "Epoch 21/50\n",
      "26/26 [==============================] - 126s 5s/step - loss: 0.5104 - accuracy: 0.8117 - val_loss: 0.5254 - val_accuracy: 0.8137\n",
      "Epoch 22/50\n",
      "26/26 [==============================] - 126s 5s/step - loss: 0.5073 - accuracy: 0.8189 - val_loss: 0.5292 - val_accuracy: 0.8148\n",
      "Epoch 23/50\n",
      "26/26 [==============================] - 126s 5s/step - loss: 0.5028 - accuracy: 0.8195 - val_loss: 0.5227 - val_accuracy: 0.8218\n",
      "Epoch 24/50\n",
      "26/26 [==============================] - 127s 5s/step - loss: 0.5032 - accuracy: 0.8217 - val_loss: 0.5247 - val_accuracy: 0.8183\n",
      "Epoch 25/50\n",
      "26/26 [==============================] - 132s 5s/step - loss: 0.4971 - accuracy: 0.8174 - val_loss: 0.5239 - val_accuracy: 0.8160\n",
      "Epoch 26/50\n",
      "26/26 [==============================] - 127s 5s/step - loss: 0.4995 - accuracy: 0.8183 - val_loss: 0.5232 - val_accuracy: 0.8194\n",
      "Epoch 27/50\n",
      "26/26 [==============================] - 127s 5s/step - loss: 0.5027 - accuracy: 0.8186 - val_loss: 0.5198 - val_accuracy: 0.8171\n",
      "Epoch 28/50\n",
      "26/26 [==============================] - 126s 5s/step - loss: 0.5015 - accuracy: 0.8198 - val_loss: 0.5302 - val_accuracy: 0.8125\n",
      "Epoch 29/50\n",
      "26/26 [==============================] - 127s 5s/step - loss: 0.4910 - accuracy: 0.8168 - val_loss: 0.5197 - val_accuracy: 0.8194\n",
      "Epoch 30/50\n",
      "26/26 [==============================] - 127s 5s/step - loss: 0.4932 - accuracy: 0.8208 - val_loss: 0.5170 - val_accuracy: 0.8194\n",
      "Epoch 31/50\n",
      "26/26 [==============================] - 136s 5s/step - loss: 0.4808 - accuracy: 0.8298 - val_loss: 0.5165 - val_accuracy: 0.8194\n",
      "Epoch 32/50\n",
      "26/26 [==============================] - 130s 5s/step - loss: 0.4833 - accuracy: 0.8217 - val_loss: 0.5144 - val_accuracy: 0.8218\n",
      "Epoch 33/50\n",
      "26/26 [==============================] - 127s 5s/step - loss: 0.4915 - accuracy: 0.8232 - val_loss: 0.5157 - val_accuracy: 0.8194\n",
      "Epoch 34/50\n",
      "26/26 [==============================] - 127s 5s/step - loss: 0.4878 - accuracy: 0.8268 - val_loss: 0.5173 - val_accuracy: 0.8194\n",
      "Epoch 35/50\n",
      "26/26 [==============================] - 128s 5s/step - loss: 0.4876 - accuracy: 0.8310 - val_loss: 0.5070 - val_accuracy: 0.8241\n",
      "Epoch 36/50\n",
      "26/26 [==============================] - 132s 5s/step - loss: 0.4864 - accuracy: 0.8229 - val_loss: 0.5108 - val_accuracy: 0.8229\n",
      "Epoch 37/50\n",
      "26/26 [==============================] - 131s 5s/step - loss: 0.4753 - accuracy: 0.8280 - val_loss: 0.5096 - val_accuracy: 0.8252\n",
      "Epoch 38/50\n",
      "26/26 [==============================] - 133s 5s/step - loss: 0.4864 - accuracy: 0.8235 - val_loss: 0.5080 - val_accuracy: 0.8252\n",
      "Epoch 39/50\n",
      "26/26 [==============================] - 134s 5s/step - loss: 0.4760 - accuracy: 0.8319 - val_loss: 0.5110 - val_accuracy: 0.8229\n",
      "Epoch 40/50\n",
      "26/26 [==============================] - 131s 5s/step - loss: 0.4777 - accuracy: 0.8338 - val_loss: 0.5062 - val_accuracy: 0.8264\n",
      "Epoch 41/50\n",
      "26/26 [==============================] - 131s 5s/step - loss: 0.4744 - accuracy: 0.8241 - val_loss: 0.5061 - val_accuracy: 0.8287\n",
      "Epoch 42/50\n",
      "26/26 [==============================] - 134s 5s/step - loss: 0.4770 - accuracy: 0.8262 - val_loss: 0.5085 - val_accuracy: 0.8275\n",
      "Epoch 43/50\n",
      "26/26 [==============================] - 137s 5s/step - loss: 0.4733 - accuracy: 0.8253 - val_loss: 0.5100 - val_accuracy: 0.8194\n",
      "Epoch 44/50\n",
      "26/26 [==============================] - 136s 5s/step - loss: 0.4755 - accuracy: 0.8238 - val_loss: 0.5102 - val_accuracy: 0.8252\n",
      "Epoch 45/50\n",
      "26/26 [==============================] - 137s 5s/step - loss: 0.4728 - accuracy: 0.8277 - val_loss: 0.5036 - val_accuracy: 0.8264\n",
      "Epoch 46/50\n",
      "26/26 [==============================] - 134s 5s/step - loss: 0.4706 - accuracy: 0.8313 - val_loss: 0.5075 - val_accuracy: 0.8241\n",
      "Epoch 47/50\n",
      "26/26 [==============================] - 130s 5s/step - loss: 0.4670 - accuracy: 0.8334 - val_loss: 0.5031 - val_accuracy: 0.8287\n",
      "Epoch 48/50\n",
      "26/26 [==============================] - 128s 5s/step - loss: 0.4661 - accuracy: 0.8364 - val_loss: 0.5013 - val_accuracy: 0.8287\n",
      "Epoch 49/50\n",
      "26/26 [==============================] - 127s 5s/step - loss: 0.4542 - accuracy: 0.8367 - val_loss: 0.5051 - val_accuracy: 0.8241\n",
      "Epoch 50/50\n",
      "26/26 [==============================] - 126s 5s/step - loss: 0.4647 - accuracy: 0.8307 - val_loss: 0.5014 - val_accuracy: 0.8241\n"
     ]
    }
   ],
   "source": [
    "history = model.fit(datagen.flow(X_Train,Y_Train, batch_size=batch_size),\n",
    "                              epochs = epochs, validation_data = (X_Test,Y_Test),\n",
    "                              verbose = 1, steps_per_epoch=X_Train.shape[0] // batch_size)"
   ]
  },
  {
   "cell_type": "code",
   "execution_count": 179,
   "id": "65fc58e6",
   "metadata": {},
   "outputs": [
    {
     "data": {
      "image/png": "[encoded data removed]",
      "text/plain": [
       "<Figure size 432x288 with 1 Axes>"
      ]
     },
     "metadata": {
      "needs_background": "light"
     },
     "output_type": "display_data"
    }
   ],
   "source": [
    "plt.plot(history.history['loss'])\n",
    "plt.plot(history.history['val_loss'])\n",
    "plt.title('Model Loss')\n",
    "plt.ylabel('Loss')\n",
    "plt.xlabel('Epochs')\n",
    "plt.legend(['train', 'test'])\n",
    "plt.show()"
   ]
  },
  {
   "cell_type": "code",
   "execution_count": 180,
   "id": "69837740",
   "metadata": {},
   "outputs": [
    {
     "data": {
      "image/png": "[encoded data removed]",
      "text/plain": [
       "<Figure size 432x288 with 1 Axes>"
      ]
     },
     "metadata": {
      "needs_background": "light"
     },
     "output_type": "display_data"
    }
   ],
   "source": [
    "plt.plot(history.history['accuracy'])\n",
    "plt.plot(history.history['val_accuracy'])\n",
    "plt.title('Model Accuracy')\n",
    "plt.ylabel('Accuracy')\n",
    "plt.xlabel('Epochs')\n",
    "plt.legend(['train', 'test'])\n",
    "plt.show()"
   ]
  },
  {
   "cell_type": "code",
   "execution_count": 181,
   "id": "baaad0db",
   "metadata": {},
   "outputs": [
    {
     "name": "stdout",
     "output_type": "stream",
     "text": [
      "INFO:tensorflow:Assets written to: /Users/joostberkelbach/Documents/Machine Learning/Transfer Learning/Transfer Learning - Unfreeze final convolution/assets\n"
     ]
    }
   ],
   "source": [
    "model = model\n",
    "model.save('/Users/joostberkelbach/Documents/Machine Learning/Transfer Learning/Transfer Learning - Unfreeze final convolution')"
   ]
  },
  {
   "cell_type": "code",
   "execution_count": 182,
   "id": "442116eb",
   "metadata": {},
   "outputs": [
    {
     "name": "stdout",
     "output_type": "stream",
     "text": [
      "0 <keras.engine.input_layer.InputLayer object at 0x7fdf17a8c550>\n",
      "1 <keras.layers.convolutional.Conv2D object at 0x7fdf17a8cac0>\n",
      "2 <keras.layers.convolutional.Conv2D object at 0x7fe053dbc7c0>\n",
      "3 <keras.layers.pooling.MaxPooling2D object at 0x7fdd03e3bcd0>\n",
      "4 <keras.layers.convolutional.Conv2D object at 0x7fdcf9778820>\n",
      "5 <keras.layers.convolutional.Conv2D object at 0x7fdcf78c73a0>\n",
      "6 <keras.layers.pooling.MaxPooling2D object at 0x7fdcf8357820>\n",
      "7 <keras.layers.convolutional.Conv2D object at 0x7fe053d2fe50>\n",
      "8 <keras.layers.convolutional.Conv2D object at 0x7fe053c83340>\n",
      "9 <keras.layers.convolutional.Conv2D object at 0x7fe053d2fb20>\n",
      "10 <keras.layers.pooling.MaxPooling2D object at 0x7fe053c83040>\n",
      "11 <keras.layers.convolutional.Conv2D object at 0x7fdf2d7b6ca0>\n",
      "12 <keras.layers.convolutional.Conv2D object at 0x7fdcf95ebe20>\n",
      "13 <keras.layers.convolutional.Conv2D object at 0x7fe053d2fd30>\n",
      "14 <keras.layers.pooling.MaxPooling2D object at 0x7fdcf95eba30>\n",
      "15 <keras.layers.convolutional.Conv2D object at 0x7fdcf77e78b0>\n",
      "16 <keras.layers.convolutional.Conv2D object at 0x7fe053d2f490>\n",
      "17 <keras.layers.convolutional.Conv2D object at 0x7fdcf97783d0>\n",
      "18 <keras.layers.pooling.MaxPooling2D object at 0x7fdcf77e7910>\n",
      "19 <keras.layers.pooling.GlobalAveragePooling2D object at 0x7fdcf740c190>\n"
     ]
    }
   ],
   "source": [
    "#Unfreezing last two layers\n",
    "for i in range (len(base_model.layers)):\n",
    "    print (i,base_model.layers[i])\n",
    "  \n",
    "for layer in base_model.layers[11:]:\n",
    "    layer.trainable=True\n",
    "for layer in base_model.layers[0:11]:\n",
    "    layer.trainable=False\n",
    "  "
   ]
  },
  {
   "cell_type": "code",
   "execution_count": 183,
   "id": "f7aa1fbc",
   "metadata": {},
   "outputs": [],
   "source": [
    "model.compile(optimizer=Adam(learning_rate=1e-4),loss='categorical_crossentropy',metrics=['accuracy'])"
   ]
  },
  {
   "cell_type": "code",
   "execution_count": 184,
   "id": "3d136f3a",
   "metadata": {},
   "outputs": [
    {
     "name": "stdout",
     "output_type": "stream",
     "text": [
      "Epoch 1/50\n",
      "26/26 [==============================] - 125s 5s/step - loss: 0.4670 - accuracy: 0.8316 - val_loss: 0.5045 - val_accuracy: 0.8264\n",
      "Epoch 2/50\n",
      "26/26 [==============================] - 126s 5s/step - loss: 0.4590 - accuracy: 0.8338 - val_loss: 0.4961 - val_accuracy: 0.8275\n",
      "Epoch 3/50\n",
      "26/26 [==============================] - 127s 5s/step - loss: 0.4632 - accuracy: 0.8316 - val_loss: 0.4983 - val_accuracy: 0.8322\n",
      "Epoch 4/50\n",
      "26/26 [==============================] - 126s 5s/step - loss: 0.4568 - accuracy: 0.8358 - val_loss: 0.5028 - val_accuracy: 0.8264\n",
      "Epoch 5/50\n",
      "26/26 [==============================] - 123s 5s/step - loss: 0.4542 - accuracy: 0.8385 - val_loss: 0.4961 - val_accuracy: 0.8310\n",
      "Epoch 6/50\n",
      "26/26 [==============================] - 124s 5s/step - loss: 0.4640 - accuracy: 0.8319 - val_loss: 0.4959 - val_accuracy: 0.8275\n",
      "Epoch 7/50\n",
      "26/26 [==============================] - 127s 5s/step - loss: 0.4560 - accuracy: 0.8364 - val_loss: 0.5011 - val_accuracy: 0.8310\n",
      "Epoch 8/50\n",
      "26/26 [==============================] - 126s 5s/step - loss: 0.4601 - accuracy: 0.8352 - val_loss: 0.4938 - val_accuracy: 0.8275\n",
      "Epoch 9/50\n",
      "26/26 [==============================] - 127s 5s/step - loss: 0.4624 - accuracy: 0.8319 - val_loss: 0.4937 - val_accuracy: 0.8229\n",
      "Epoch 10/50\n",
      "26/26 [==============================] - 130s 5s/step - loss: 0.4497 - accuracy: 0.8370 - val_loss: 0.4935 - val_accuracy: 0.8287\n",
      "Epoch 11/50\n",
      "26/26 [==============================] - 130s 5s/step - loss: 0.4475 - accuracy: 0.8382 - val_loss: 0.5001 - val_accuracy: 0.8264\n",
      "Epoch 12/50\n",
      "26/26 [==============================] - 130s 5s/step - loss: 0.4469 - accuracy: 0.8367 - val_loss: 0.4947 - val_accuracy: 0.8310\n",
      "Epoch 13/50\n",
      "26/26 [==============================] - 130s 5s/step - loss: 0.4461 - accuracy: 0.8433 - val_loss: 0.5006 - val_accuracy: 0.8252\n",
      "Epoch 14/50\n",
      "26/26 [==============================] - 126s 5s/step - loss: 0.4482 - accuracy: 0.8322 - val_loss: 0.4876 - val_accuracy: 0.8310\n",
      "Epoch 15/50\n",
      "26/26 [==============================] - 129s 5s/step - loss: 0.4425 - accuracy: 0.8439 - val_loss: 0.4929 - val_accuracy: 0.8310\n",
      "Epoch 16/50\n",
      "26/26 [==============================] - 126s 5s/step - loss: 0.4478 - accuracy: 0.8346 - val_loss: 0.4943 - val_accuracy: 0.8264\n",
      "Epoch 17/50\n",
      "26/26 [==============================] - 130s 5s/step - loss: 0.4534 - accuracy: 0.8349 - val_loss: 0.4947 - val_accuracy: 0.8252\n",
      "Epoch 18/50\n",
      "26/26 [==============================] - 128s 5s/step - loss: 0.4404 - accuracy: 0.8376 - val_loss: 0.4932 - val_accuracy: 0.8299\n",
      "Epoch 19/50\n",
      "26/26 [==============================] - 127s 5s/step - loss: 0.4406 - accuracy: 0.8469 - val_loss: 0.4904 - val_accuracy: 0.8333\n",
      "Epoch 20/50\n",
      "26/26 [==============================] - 139s 5s/step - loss: 0.4338 - accuracy: 0.8454 - val_loss: 0.4907 - val_accuracy: 0.8264\n",
      "Epoch 21/50\n",
      "26/26 [==============================] - 134s 5s/step - loss: 0.4406 - accuracy: 0.8481 - val_loss: 0.4907 - val_accuracy: 0.8322\n",
      "Epoch 22/50\n",
      "26/26 [==============================] - 128s 5s/step - loss: 0.4422 - accuracy: 0.8415 - val_loss: 0.4898 - val_accuracy: 0.8287\n",
      "Epoch 23/50\n",
      "26/26 [==============================] - 129s 5s/step - loss: 0.4469 - accuracy: 0.8421 - val_loss: 0.4905 - val_accuracy: 0.8322\n",
      "Epoch 24/50\n",
      "26/26 [==============================] - 129s 5s/step - loss: 0.4406 - accuracy: 0.8388 - val_loss: 0.4876 - val_accuracy: 0.8322\n",
      "Epoch 25/50\n",
      "26/26 [==============================] - 131s 5s/step - loss: 0.4298 - accuracy: 0.8451 - val_loss: 0.4899 - val_accuracy: 0.8275\n",
      "Epoch 26/50\n",
      "26/26 [==============================] - 131s 5s/step - loss: 0.4416 - accuracy: 0.8355 - val_loss: 0.4849 - val_accuracy: 0.8322\n",
      "Epoch 27/50\n",
      "26/26 [==============================] - 128s 5s/step - loss: 0.4419 - accuracy: 0.8463 - val_loss: 0.4886 - val_accuracy: 0.8322\n",
      "Epoch 28/50\n",
      "26/26 [==============================] - 126s 5s/step - loss: 0.4194 - accuracy: 0.8481 - val_loss: 0.4857 - val_accuracy: 0.8287\n",
      "Epoch 29/50\n",
      "26/26 [==============================] - 128s 5s/step - loss: 0.4410 - accuracy: 0.8409 - val_loss: 0.4876 - val_accuracy: 0.8275\n",
      "Epoch 30/50\n",
      "26/26 [==============================] - 132s 5s/step - loss: 0.4376 - accuracy: 0.8460 - val_loss: 0.4850 - val_accuracy: 0.8345\n",
      "Epoch 31/50\n",
      "26/26 [==============================] - 135s 5s/step - loss: 0.4384 - accuracy: 0.8454 - val_loss: 0.4851 - val_accuracy: 0.8310\n",
      "Epoch 32/50\n",
      "26/26 [==============================] - 137s 5s/step - loss: 0.4350 - accuracy: 0.8484 - val_loss: 0.4878 - val_accuracy: 0.8322\n",
      "Epoch 33/50\n",
      "26/26 [==============================] - 138s 5s/step - loss: 0.4368 - accuracy: 0.8448 - val_loss: 0.4824 - val_accuracy: 0.8345\n",
      "Epoch 34/50\n",
      "26/26 [==============================] - 137s 5s/step - loss: 0.4324 - accuracy: 0.8520 - val_loss: 0.4804 - val_accuracy: 0.8322\n",
      "Epoch 35/50\n",
      "26/26 [==============================] - 137s 5s/step - loss: 0.4298 - accuracy: 0.8496 - val_loss: 0.4814 - val_accuracy: 0.8322\n",
      "Epoch 36/50\n",
      "26/26 [==============================] - 130s 5s/step - loss: 0.4282 - accuracy: 0.8472 - val_loss: 0.4875 - val_accuracy: 0.8310\n",
      "Epoch 37/50\n",
      "26/26 [==============================] - 129s 5s/step - loss: 0.4287 - accuracy: 0.8484 - val_loss: 0.4786 - val_accuracy: 0.8345\n",
      "Epoch 38/50\n",
      "26/26 [==============================] - 132s 5s/step - loss: 0.4288 - accuracy: 0.8448 - val_loss: 0.4792 - val_accuracy: 0.8333\n",
      "Epoch 39/50\n",
      "26/26 [==============================] - 129s 5s/step - loss: 0.4292 - accuracy: 0.8469 - val_loss: 0.4814 - val_accuracy: 0.8310\n",
      "Epoch 40/50\n",
      "26/26 [==============================] - 129s 5s/step - loss: 0.4358 - accuracy: 0.8436 - val_loss: 0.4790 - val_accuracy: 0.8322\n",
      "Epoch 41/50\n",
      "26/26 [==============================] - 129s 5s/step - loss: 0.4294 - accuracy: 0.8438 - val_loss: 0.4839 - val_accuracy: 0.8287\n",
      "Epoch 42/50\n",
      "26/26 [==============================] - 129s 5s/step - loss: 0.4233 - accuracy: 0.8526 - val_loss: 0.4781 - val_accuracy: 0.8333\n",
      "Epoch 43/50\n",
      "26/26 [==============================] - 129s 5s/step - loss: 0.4243 - accuracy: 0.8451 - val_loss: 0.4800 - val_accuracy: 0.8345\n",
      "Epoch 44/50\n",
      "26/26 [==============================] - 132s 5s/step - loss: 0.4185 - accuracy: 0.8481 - val_loss: 0.4824 - val_accuracy: 0.8333\n",
      "Epoch 45/50\n",
      "26/26 [==============================] - 131s 5s/step - loss: 0.4207 - accuracy: 0.8442 - val_loss: 0.4801 - val_accuracy: 0.8322\n",
      "Epoch 46/50\n",
      "26/26 [==============================] - 136s 5s/step - loss: 0.4243 - accuracy: 0.8508 - val_loss: 0.4847 - val_accuracy: 0.8287\n",
      "Epoch 47/50\n",
      "26/26 [==============================] - 128s 5s/step - loss: 0.4124 - accuracy: 0.8511 - val_loss: 0.4765 - val_accuracy: 0.8345\n",
      "Epoch 48/50\n",
      "26/26 [==============================] - 129s 5s/step - loss: 0.4184 - accuracy: 0.8466 - val_loss: 0.4775 - val_accuracy: 0.8345\n",
      "Epoch 49/50\n",
      "26/26 [==============================] - 132s 5s/step - loss: 0.4290 - accuracy: 0.8496 - val_loss: 0.4763 - val_accuracy: 0.8333\n",
      "Epoch 50/50\n",
      "26/26 [==============================] - 127s 5s/step - loss: 0.4185 - accuracy: 0.8481 - val_loss: 0.4797 - val_accuracy: 0.8310\n"
     ]
    }
   ],
   "source": [
    "history = model.fit(datagen.flow(X_Train,Y_Train, batch_size=batch_size),\n",
    "                              epochs = epochs, validation_data = (X_Test,Y_Test),\n",
    "                              verbose = 1, steps_per_epoch=X_Train.shape[0] // batch_size)"
   ]
  },
  {
   "cell_type": "code",
   "execution_count": 185,
   "id": "725f3bdd",
   "metadata": {},
   "outputs": [
    {
     "data": {
      "image/png": "[encoded data removed]",
      "text/plain": [
       "<Figure size 432x288 with 1 Axes>"
      ]
     },
     "metadata": {
      "needs_background": "light"
     },
     "output_type": "display_data"
    }
   ],
   "source": [
    "plt.plot(history.history['loss'])\n",
    "plt.plot(history.history['val_loss'])\n",
    "plt.title('Model Loss')\n",
    "plt.ylabel('Loss')\n",
    "plt.xlabel('Epochs')\n",
    "plt.legend(['train', 'test'])\n",
    "plt.show()"
   ]
  },
  {
   "cell_type": "code",
   "execution_count": 186,
   "id": "29cd6e21",
   "metadata": {},
   "outputs": [
    {
     "data": {
      "image/png": "[encoded data removed]",
      "text/plain": [
       "<Figure size 432x288 with 1 Axes>"
      ]
     },
     "metadata": {
      "needs_background": "light"
     },
     "output_type": "display_data"
    }
   ],
   "source": [
    "plt.plot(history.history['accuracy'])\n",
    "plt.plot(history.history['val_accuracy'])\n",
    "plt.title('Model Accuracy')\n",
    "plt.ylabel('Accuracy')\n",
    "plt.xlabel('Epochs')\n",
    "plt.legend(['train', 'test'])\n",
    "plt.show()"
   ]
  },
  {
   "cell_type": "code",
   "execution_count": 187,
   "id": "2d1f1aad",
   "metadata": {},
   "outputs": [
    {
     "name": "stdout",
     "output_type": "stream",
     "text": [
      "INFO:tensorflow:Assets written to: /Users/joostberkelbach/Documents/Machine Learning/Transfer Learning/Transfer Learning - Unfreeze last 2 convolution layers/assets\n"
     ]
    }
   ],
   "source": [
    "model = model\n",
    "model.save('/Users/joostberkelbach/Documents/Machine Learning/Transfer Learning/Transfer Learning - Unfreeze last 2 convolution layers')"
   ]
  },
  {
   "cell_type": "code",
   "execution_count": 198,
   "id": "531301bc",
   "metadata": {},
   "outputs": [],
   "source": [
    "# getting predictions on val set.\n",
    "Predictions = model.predict(X_Test)\n",
    "Predictions_digits=np.argmax(Predictions,axis=1)"
   ]
  },
  {
   "cell_type": "code",
   "execution_count": 189,
   "id": "3c5b8809",
   "metadata": {},
   "outputs": [],
   "source": [
    "#Defining the comfusion matrix\n",
    "def print_confusion_matrix(confusion_matrix, class_names, figsize = (10,7), fontsize=14):\n",
    "    df_cm = pd.DataFrame(\n",
    "        confusion_matrix, index=class_names, columns=class_names, \n",
    "    )\n",
    "    fig = plt.figure(figsize=figsize)\n",
    "    try:\n",
    "        heatmap = sns.heatmap(df_cm, annot=True, fmt=\"d\", cmap=\"Greens\")\n",
    "    except ValueError:\n",
    "        raise ValueError(\"Confusion matrix values must be integers.\")\n",
    "    heatmap.yaxis.set_ticklabels(heatmap.yaxis.get_ticklabels(), rotation=0, ha='right', fontsize=fontsize)\n",
    "    heatmap.xaxis.set_ticklabels(heatmap.xaxis.get_ticklabels(), rotation=0, ha='right', fontsize=fontsize)\n",
    "    plt.ylabel('Truth')\n",
    "    plt.xlabel('Prediction')"
   ]
  },
  {
   "cell_type": "code",
   "execution_count": 190,
   "id": "78c7b6d2",
   "metadata": {},
   "outputs": [
    {
     "data": {
      "image/png": "[encoded data removed]",
      "text/plain": [
       "<Figure size 720x504 with 2 Axes>"
      ]
     },
     "metadata": {
      "needs_background": "light"
     },
     "output_type": "display_data"
    }
   ],
   "source": [
    "#Making the confusion matrix\n",
    "obtained = []\n",
    "truth = []\n",
    "classes = ['daisy','dandelion','rose','sunflower','tulip']\n",
    "\n",
    "for i in range(len(Predictions)) : \n",
    "    obtained.append(classes[np.argmax(Predictions[i])])\n",
    "    if Y_Test[i][0]==1:\n",
    "        truth.append(classes[0])\n",
    "    elif Y_Test[i][1]==1:\n",
    "        truth.append(classes[1])\n",
    "    elif Y_Test[i][2]==1:\n",
    "        truth.append(classes[2])\n",
    "    elif Y_Test[i][3]==1:\n",
    "        truth.append(classes[3])\n",
    "    elif Y_Test[i][4]==1:\n",
    "        truth.append(classes[4])\n",
    "\n",
    "cm = confusion_matrix(truth,obtained)\n",
    "print_confusion_matrix(cm,['Daisy','Dandelion','Rose','Sunflower','Tulip'])"
   ]
  },
  {
   "cell_type": "code",
   "execution_count": 191,
   "id": "6c003876",
   "metadata": {},
   "outputs": [],
   "source": [
    "from sklearn.metrics import f1_score"
   ]
  },
  {
   "cell_type": "code",
   "execution_count": 192,
   "id": "67541f87",
   "metadata": {},
   "outputs": [
    {
     "name": "stdout",
     "output_type": "stream",
     "text": [
      "F1 score  daisy       0.7867647058823529\n",
      "F1 score  dandelion       0.8693693693693694\n",
      "F1 score  rose       0.7945205479452055\n",
      "F1 score  sunflower       0.8533333333333333\n",
      "F1 score  tulip       0.8285714285714286\n"
     ]
    }
   ],
   "source": [
    "#F1 score\n",
    "F1 = f1_score(obtained,truth,average=None)\n",
    "for i in [0,1,2,3,4]:\n",
    "    print(\"F1 score\",\"\",classes[i],\"     \",F1[i])"
   ]
  },
  {
   "cell_type": "code",
   "execution_count": 193,
   "id": "6a2bc63b",
   "metadata": {},
   "outputs": [
    {
     "name": "stdout",
     "output_type": "stream",
     "text": [
      "Recall : [0.7810219  0.8539823  0.81118881 0.8707483  0.82464455]\n",
      "Precision: [0.79259259 0.8853211  0.77852349 0.83660131 0.83253589]\n",
      "Accuracy [0.93287037 0.93287037 0.93055556 0.94907407 0.91666667]\n"
     ]
    }
   ],
   "source": [
    "#Assessment metrics\n",
    "FP = cm.sum(axis=0) - np.diag(cm)  \n",
    "FN = cm.sum(axis=1) - np.diag(cm)\n",
    "TP = np.diag(cm)\n",
    "TN = cm.sum() - (FP + FN + TP)\n",
    "\n",
    "# Sensitivity, hit rate, recall, or true positive rate\n",
    "TPR = TP/(TP+FN)\n",
    "print(\"Recall : \" + str(TPR))\n",
    "#print(\"Overall Reacll : \" + str(np.sum(TPR)))\n",
    "# Specificity or true negative rate\n",
    "TNR = TN/(TN+FP) \n",
    "# Precision or positive predictive value\n",
    "PPV = TP/(TP+FP)\n",
    "print(\"Precision: \" + str(PPV))\n",
    "#print(\"Overall Precision : \" + str(np.sum(PPV)))\n",
    "# Negative predictive value\n",
    "NPV = TN/(TN+FN)\n",
    "# Fall out or false positive rate\n",
    "FPR = FP/(FP+TN)\n",
    "# False negative rate\n",
    "FNR = FN/(TP+FN)\n",
    "# False discovery rate\n",
    "FDR = FP/(TP+FP)\n",
    "# Positive likelihood ratio\n",
    "LR = TPR/FPR\n",
    "\n",
    "# Overall accuracy\n",
    "ACC = (TP+TN)/(TP+FP+FN+TN)\n",
    "print(\"Accuracy\", ACC)\n",
    "#print(\"Overall Accuracy: \" + str(np.sum(ACC)))"
   ]
  },
  {
   "cell_type": "code",
   "execution_count": 195,
   "id": "10ff536c",
   "metadata": {},
   "outputs": [],
   "source": [
    "def get_model_memory_usage(batch_size, model):\n",
    "    import numpy as np\n",
    "    try:\n",
    "        from keras import backend as K\n",
    "    except:\n",
    "        from tensorflow.keras import backend as K\n",
    "\n",
    "    shapes_mem_count = 0\n",
    "    internal_model_mem_count = 0\n",
    "    for l in model.layers:\n",
    "        layer_type = l.__class__.__name__\n",
    "        if layer_type == 'Model':\n",
    "            internal_model_mem_count += get_model_memory_usage(batch_size, l)\n",
    "        single_layer_mem = 1\n",
    "        out_shape = l.output_shape\n",
    "        if type(out_shape) is list:\n",
    "            out_shape = out_shape[0]\n",
    "        for s in out_shape:\n",
    "            if s is None:\n",
    "                continue\n",
    "            single_layer_mem *= s\n",
    "        shapes_mem_count += single_layer_mem\n",
    "\n",
    "    trainable_count = np.sum([K.count_params(p) for p in model.trainable_weights])\n",
    "    non_trainable_count = np.sum([K.count_params(p) for p in model.non_trainable_weights])\n",
    "\n",
    "    number_size = 4.0\n",
    "    if K.floatx() == 'float16':\n",
    "        number_size = 2.0\n",
    "    if K.floatx() == 'float64':\n",
    "        number_size = 8.0\n",
    "\n",
    "    total_memory = number_size * (batch_size * shapes_mem_count + trainable_count + non_trainable_count)\n",
    "    gbytes = np.round(total_memory / (1024.0 ** 3), 3) + internal_model_mem_count\n",
    "    return gbytes"
   ]
  },
  {
   "cell_type": "code",
   "execution_count": 196,
   "id": "b3337501",
   "metadata": {},
   "outputs": [
    {
     "data": {
      "text/plain": [
       "0.056"
      ]
     },
     "execution_count": 196,
     "metadata": {},
     "output_type": "execute_result"
    }
   ],
   "source": [
    "get_model_memory_usage(batch_size, model)"
   ]
  }
 ],
 "metadata": {
  "kernelspec": {
   "display_name": "Python 3",
   "language": "python",
   "name": "python3"
  },
  "language_info": {
   "codemirror_mode": {
    "name": "ipython",
    "version": 3
   },
   "file_extension": ".py",
   "mimetype": "text/x-python",
   "name": "python",
   "nbconvert_exporter": "python",
   "pygments_lexer": "ipython3",
   "version": "3.8.8"
  }
 },
 "nbformat": 4,
 "nbformat_minor": 5
}
