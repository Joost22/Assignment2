{
 "cells": [
  {
   "cell_type": "code",
   "execution_count": 207,
   "id": "f97b9547",
   "metadata": {},
   "outputs": [],
   "source": [
    "#Importing libraries\n",
    "import numpy as np\n",
    "import pandas as pd\n",
    "import matplotlib.pyplot as plt\n",
    "import seaborn as sns\n",
    "from matplotlib import style\n",
    "%matplotlib inline  \n",
    "style.use('fivethirtyeight')\n",
    "sns.set(style='whitegrid',color_codes=True)\n",
    "import cv2\n",
    "from tqdm import tqdm\n",
    "\n",
    "from sklearn.model_selection import train_test_split\n",
    "from sklearn.model_selection import KFold\n",
    "from sklearn.metrics import accuracy_score,precision_score,recall_score,confusion_matrix,roc_curve,roc_auc_score\n",
    "from sklearn.model_selection import GridSearchCV\n",
    "from sklearn.preprocessing import LabelEncoder\n",
    "\n",
    "from keras.preprocessing.image import ImageDataGenerator\n",
    "from keras import backend as K\n",
    "from keras.models import Sequential\n",
    "from keras.layers import Dense\n",
    "from tensorflow.keras.optimizers import Adam, SGD, Adagrad, Adadelta, RMSprop\n",
    "from tensorflow.keras.utils import to_categorical\n",
    "from keras.layers import Dropout, Flatten,Activation\n",
    "from keras.layers import Conv2D, MaxPooling2D, BatchNormalization\n",
    " \n",
    "import tensorflow as tf\n",
    "import random as rn\n",
    "import os"
   ]
  },
  {
   "cell_type": "code",
   "execution_count": 208,
   "id": "d333a0bb",
   "metadata": {},
   "outputs": [],
   "source": [
    "#Folder containing images of the flower database\n",
    "path = '/Users/joostberkelbach/Documents/Machine Learning/Assignment 2/flowers/'"
   ]
  },
  {
   "cell_type": "code",
   "execution_count": 1,
   "id": "1937a45d",
   "metadata": {},
   "outputs": [],
   "source": [
    "#Selecting the input size of the images for the CNN\n",
    "Image_Size = 150"
   ]
  },
  {
   "cell_type": "code",
   "execution_count": 210,
   "id": "fbcc6ed7",
   "metadata": {},
   "outputs": [],
   "source": [
    "#Creating the preprocessing transformations that will be applied to the training data\n",
    "transformer = {\n",
    "    'original': transform.Compose([\n",
    "                                 transform.Resize((Image_Size, Image_Size)),\n",
    "                                 transform.ToTensor(), \n",
    "                                 transform.Normalize((0.4124234616756439, 0.3674212694168091, 0.2578217089176178), \n",
    "                                                     (0.3268945515155792, 0.29282665252685547, 0.29053378105163574))\n",
    "]), \n",
    "   'dataset1': transform.Compose([\n",
    "                           transform.Resize((Image_Size, Image_Size)),\n",
    "                           transform.ColorJitter(brightness=0.2, contrast=0.2, saturation=0.2),\n",
    "                           transform.RandomRotation(5),\n",
    "                           transform.RandomAffine(degrees=11, translate=(0.1,0.1), scale=(0.8,0.8)),\n",
    "                           transform.ToTensor(),\n",
    "                           transform.Normalize((0.4124234616756439, 0.3674212694168091, 0.2578217089176178), \n",
    "                                               (0.3268945515155792, 0.29282665252685547, 0.29053378105163574)),\n",
    "]), \n",
    "   'dataset2': transform.Compose([\n",
    "                                 transform.Resize((Image_Size, Image_Size)),\n",
    "                                 transform.RandomHorizontalFlip(),\n",
    "                                 transform.RandomRotation(10),\n",
    "                                 transform.RandomAffine(translate=(0.05,0.05), degrees=0),\n",
    "                                 transform.ToTensor(),\n",
    "                                 transform.RandomErasing(inplace=True, scale=(0.01, 0.23)),\n",
    "                                 transform.Normalize((0.4124234616756439, 0.3674212694168091, 0.2578217089176178), \n",
    "                                                     (0.3268945515155792, 0.29282665252685547, 0.29053378105163574))]),\n",
    "   'dataset3': transform.Compose([\n",
    "                                 transform.Resize((Image_Size, Image_Size)),\n",
    "                                 transform.RandomHorizontalFlip(p=0.5),\n",
    "                                 transform.RandomRotation(15),\n",
    "                                 transform.RandomAffine(translate=(0.08,0.1), degrees=15),\n",
    "                                 transform.ToTensor(),\n",
    "                                 transform.Normalize((0.4124234616756439, 0.3674212694168091, 0.2578217089176178), \n",
    "                                                     (0.3268945515155792, 0.29282665252685547, 0.29053378105163574))\n",
    "                                                     \n",
    "])\n",
    "       }"
   ]
  },
  {
   "cell_type": "code",
   "execution_count": 211,
   "id": "57c0210c",
   "metadata": {},
   "outputs": [],
   "source": [
    "#Applying the transformations to the images\n",
    "original = ImageFolder(path, transform=transformer['original'])\n",
    "transform1 = ImageFolder(path, transform=transformer['dataset1'])\n",
    "transform2 = ImageFolder(path, transform=transformer['dataset2'])\n",
    "transform3 = ImageFolder(path, transform=transformer['dataset3'])\n",
    "                         "
   ]
  },
  {
   "cell_type": "code",
   "execution_count": 212,
   "id": "ae7173f7",
   "metadata": {},
   "outputs": [],
   "source": [
    "#Splitting the dataset into a training set (80) and a testing set (20%)\n",
    "train_val, test = train_test_split(original,test_size=0.2, shuffle = True , random_state = 43)"
   ]
  },
  {
   "cell_type": "code",
   "execution_count": 213,
   "id": "de6422db",
   "metadata": {},
   "outputs": [],
   "source": [
    "#Adding the transformations to the training set to artificially increase its size\n",
    "train = ConcatDataset([train_val, transform1, transform2, transform3])"
   ]
  },
  {
   "cell_type": "code",
   "execution_count": 214,
   "id": "a49bd460",
   "metadata": {},
   "outputs": [],
   "source": [
    "#Separating the images and classes into separate arrays\n",
    "X_Test = []\n",
    "Y_Test = []\n",
    "\n",
    "\n",
    "for i in range(len(test)):\n",
    "    Y_Test.append(test[i][1])\n",
    "    X_Test.append(test[i][0].numpy())\n",
    "\n"
   ]
  },
  {
   "cell_type": "code",
   "execution_count": 215,
   "id": "d95e1724",
   "metadata": {},
   "outputs": [],
   "source": [
    "X_Test = np.reshape(X_Test, (864,Image_Size,Image_Size,3))"
   ]
  },
  {
   "cell_type": "code",
   "execution_count": 216,
   "id": "b6714e27",
   "metadata": {},
   "outputs": [],
   "source": [
    "Test = []\n",
    "\n",
    "for i in range(len(test)):\n",
    "    if Y_Test[i]==0:\n",
    "        Test.append([1,0,0,0,0])\n",
    "    elif Y_Test[i]==1:\n",
    "        Test.append([0,1,0,0,0]) \n",
    "    elif Y_Test[i]==2:\n",
    "        Test.append([0,0,1,0,0])    \n",
    "    elif Y_Test[i]==3:\n",
    "        Test.append([0,0,0,1,0])    \n",
    "    elif Y_Test[i]==4:\n",
    "        Test.append([0,0,0,0,1])    "
   ]
  },
  {
   "cell_type": "code",
   "execution_count": 217,
   "id": "b1f40d7c",
   "metadata": {},
   "outputs": [],
   "source": [
    "Test = np.array(Test)"
   ]
  },
  {
   "cell_type": "code",
   "execution_count": 218,
   "id": "46d22ef9",
   "metadata": {},
   "outputs": [],
   "source": [
    "Y_Test = np.reshape(Test, (864,5))"
   ]
  },
  {
   "cell_type": "code",
   "execution_count": 219,
   "id": "d810018a",
   "metadata": {},
   "outputs": [],
   "source": [
    "#Separating the images and classes into separate arrays\n",
    "X_Train = []\n",
    "Y_Train = []\n",
    "\n",
    "\n",
    "for i in range(len(train)):\n",
    "    Y_Train.append(train[i][1])\n",
    "    X_Train.append(train[i][0].numpy())\n",
    "    \n",
    "X_Train = np.reshape(X_Train, (len(train),Image_Size,Image_Size,3))"
   ]
  },
  {
   "cell_type": "code",
   "execution_count": 221,
   "id": "165f17df",
   "metadata": {},
   "outputs": [],
   "source": [
    "Train = []\n",
    "\n",
    "for i in range(len(train)):\n",
    "    if Y_Train[i]==0:\n",
    "        Train.append([1,0,0,0,0])\n",
    "    elif Y_Train[i]==1:\n",
    "        Train.append([0,1,0,0,0]) \n",
    "    elif Y_Train[i]==2:\n",
    "        Train.append([0,0,1,0,0])    \n",
    "    elif Y_Train[i]==3:\n",
    "        Train.append([0,0,0,1,0])    \n",
    "    elif Y_Train[i]==4:\n",
    "        Train.append([0,0,0,0,1])   "
   ]
  },
  {
   "cell_type": "code",
   "execution_count": 222,
   "id": "d83ba54a",
   "metadata": {},
   "outputs": [],
   "source": [
    "Train = np.array(Train)"
   ]
  },
  {
   "cell_type": "code",
   "execution_count": 223,
   "id": "cc4d3e7e",
   "metadata": {},
   "outputs": [],
   "source": [
    "Y_Train = np.reshape(Train, (len(train),5))"
   ]
  },
  {
   "cell_type": "code",
   "execution_count": 224,
   "id": "6694b382",
   "metadata": {},
   "outputs": [],
   "source": [
    "#Building the model\n",
    "model = Sequential()\n",
    "model.add(Conv2D(filters = 32, kernel_size = (5,5),padding = 'Same',activation ='relu', input_shape = (Image_Size,Image_Size,3)))\n",
    "model.add(MaxPooling2D(pool_size=(2,2)))\n",
    "\n",
    "model.add(Conv2D(filters = 64, kernel_size = (3,3),padding = 'Same',activation ='relu'))\n",
    "model.add(MaxPooling2D(pool_size=(2,2), strides=(2,2)))\n",
    "\n",
    "model.add(Conv2D(filters =96, kernel_size = (3,3),padding = 'Same',activation ='relu'))\n",
    "model.add(MaxPooling2D(pool_size=(2,2), strides=(2,2)))\n",
    "\n",
    "model.add(Conv2D(filters = 96, kernel_size = (3,3),padding = 'Same',activation ='relu'))\n",
    "model.add(MaxPooling2D(pool_size=(2,2), strides=(2,2)))\n",
    "\n",
    "model.add(Flatten())\n",
    "model.add(Dense(512))\n",
    "model.add(Activation('relu'))\n",
    "model.add(Dense(5, activation = \"softmax\"))"
   ]
  },
  {
   "cell_type": "code",
   "execution_count": 225,
   "id": "e09c3ce2",
   "metadata": {},
   "outputs": [],
   "source": [
    "#Setting the training parameters\n",
    "batch_size=128\n",
    "epochs=50\n",
    "\n",
    "from keras.callbacks import ReduceLROnPlateau\n",
    "red_lr= ReduceLROnPlateau(monitor='val_acc',patience=3,verbose=1,factor=0.1)"
   ]
  },
  {
   "cell_type": "code",
   "execution_count": 226,
   "id": "a8f1450b",
   "metadata": {},
   "outputs": [],
   "source": [
    "#Augmentations that are performed on all data\n",
    "datagen = ImageDataGenerator(\n",
    "        featurewise_center=False,  \n",
    "        samplewise_center=False,  \n",
    "        featurewise_std_normalization=False,  \n",
    "        samplewise_std_normalization=False,  \n",
    "        zca_whitening=False,  \n",
    "        rotation_range=10, \n",
    "        zoom_range = 0.1, \n",
    "        width_shift_range=0.2, \n",
    "        height_shift_range=0.2,  \n",
    "        horizontal_flip=True,\n",
    "        vertical_flip=False)  \n",
    "\n",
    "datagen.fit(X_Train)"
   ]
  },
  {
   "cell_type": "code",
   "execution_count": 227,
   "id": "12165775",
   "metadata": {},
   "outputs": [],
   "source": [
    "model.compile(optimizer=Adam(learning_rate=0.001),loss='categorical_crossentropy',metrics=['accuracy'])"
   ]
  },
  {
   "cell_type": "code",
   "execution_count": 228,
   "id": "2dc83c1c",
   "metadata": {},
   "outputs": [
    {
     "name": "stdout",
     "output_type": "stream",
     "text": [
      "Model: \"sequential_4\"\n",
      "_________________________________________________________________\n",
      " Layer (type)                Output Shape              Param #   \n",
      "=================================================================\n",
      " conv2d_16 (Conv2D)          (None, 150, 150, 32)      2432      \n",
      "                                                                 \n",
      " max_pooling2d_16 (MaxPoolin  (None, 75, 75, 32)       0         \n",
      " g2D)                                                            \n",
      "                                                                 \n",
      " conv2d_17 (Conv2D)          (None, 75, 75, 64)        18496     \n",
      "                                                                 \n",
      " max_pooling2d_17 (MaxPoolin  (None, 37, 37, 64)       0         \n",
      " g2D)                                                            \n",
      "                                                                 \n",
      " conv2d_18 (Conv2D)          (None, 37, 37, 96)        55392     \n",
      "                                                                 \n",
      " max_pooling2d_18 (MaxPoolin  (None, 18, 18, 96)       0         \n",
      " g2D)                                                            \n",
      "                                                                 \n",
      " conv2d_19 (Conv2D)          (None, 18, 18, 96)        83040     \n",
      "                                                                 \n",
      " max_pooling2d_19 (MaxPoolin  (None, 9, 9, 96)         0         \n",
      " g2D)                                                            \n",
      "                                                                 \n",
      " flatten_4 (Flatten)         (None, 7776)              0         \n",
      "                                                                 \n",
      " dense_8 (Dense)             (None, 512)               3981824   \n",
      "                                                                 \n",
      " activation_4 (Activation)   (None, 512)               0         \n",
      "                                                                 \n",
      " dense_9 (Dense)             (None, 5)                 2565      \n",
      "                                                                 \n",
      "=================================================================\n",
      "Total params: 4,143,749\n",
      "Trainable params: 4,143,749\n",
      "Non-trainable params: 0\n",
      "_________________________________________________________________\n"
     ]
    }
   ],
   "source": [
    "model.summary()"
   ]
  },
  {
   "cell_type": "code",
   "execution_count": 229,
   "id": "b7c7df8b",
   "metadata": {},
   "outputs": [
    {
     "name": "stdout",
     "output_type": "stream",
     "text": [
      "Epoch 1/50\n",
      "128/128 [==============================] - 209s 2s/step - loss: 1.4720 - accuracy: 0.3566 - val_loss: 1.2790 - val_accuracy: 0.4491\n",
      "Epoch 2/50\n",
      "128/128 [==============================] - 212s 2s/step - loss: 1.2625 - accuracy: 0.4760 - val_loss: 1.1577 - val_accuracy: 0.5278\n",
      "Epoch 3/50\n",
      "128/128 [==============================] - 200s 2s/step - loss: 1.1628 - accuracy: 0.5285 - val_loss: 1.1802 - val_accuracy: 0.5370\n",
      "Epoch 4/50\n",
      "128/128 [==============================] - 195s 2s/step - loss: 1.0361 - accuracy: 0.5879 - val_loss: 1.0791 - val_accuracy: 0.5718\n",
      "Epoch 5/50\n",
      "128/128 [==============================] - 191s 1s/step - loss: 0.9801 - accuracy: 0.6065 - val_loss: 0.9080 - val_accuracy: 0.6528\n",
      "Epoch 6/50\n",
      "128/128 [==============================] - 190s 1s/step - loss: 0.9140 - accuracy: 0.6358 - val_loss: 1.0405 - val_accuracy: 0.6053\n",
      "Epoch 7/50\n",
      "128/128 [==============================] - 190s 1s/step - loss: 0.8792 - accuracy: 0.6561 - val_loss: 0.9377 - val_accuracy: 0.6424\n",
      "Epoch 8/50\n",
      "128/128 [==============================] - 191s 1s/step - loss: 0.8095 - accuracy: 0.6811 - val_loss: 0.8301 - val_accuracy: 0.6875\n",
      "Epoch 9/50\n",
      "128/128 [==============================] - 190s 1s/step - loss: 0.7680 - accuracy: 0.6991 - val_loss: 0.7717 - val_accuracy: 0.7072\n",
      "Epoch 10/50\n",
      "128/128 [==============================] - 189s 1s/step - loss: 0.7417 - accuracy: 0.7116 - val_loss: 0.7261 - val_accuracy: 0.7141\n",
      "Epoch 11/50\n",
      "128/128 [==============================] - 186s 1s/step - loss: 0.7048 - accuracy: 0.7317 - val_loss: 0.7352 - val_accuracy: 0.7292\n",
      "Epoch 12/50\n",
      "128/128 [==============================] - 186s 1s/step - loss: 0.6734 - accuracy: 0.7391 - val_loss: 0.7108 - val_accuracy: 0.7488\n",
      "Epoch 13/50\n",
      "128/128 [==============================] - 196s 2s/step - loss: 0.6581 - accuracy: 0.7443 - val_loss: 0.6611 - val_accuracy: 0.7731\n",
      "Epoch 14/50\n",
      "128/128 [==============================] - 222s 2s/step - loss: 0.6321 - accuracy: 0.7550 - val_loss: 0.7203 - val_accuracy: 0.7326\n",
      "Epoch 15/50\n",
      "128/128 [==============================] - 190s 1s/step - loss: 0.6172 - accuracy: 0.7557 - val_loss: 0.6673 - val_accuracy: 0.7604\n",
      "Epoch 16/50\n",
      "128/128 [==============================] - 190s 1s/step - loss: 0.5759 - accuracy: 0.7791 - val_loss: 0.8029 - val_accuracy: 0.7141\n",
      "Epoch 17/50\n",
      "128/128 [==============================] - 191s 1s/step - loss: 0.5708 - accuracy: 0.7804 - val_loss: 0.6879 - val_accuracy: 0.7535\n",
      "Epoch 18/50\n",
      "128/128 [==============================] - 193s 2s/step - loss: 0.5528 - accuracy: 0.7870 - val_loss: 0.6176 - val_accuracy: 0.7801\n",
      "Epoch 19/50\n",
      "128/128 [==============================] - 190s 1s/step - loss: 0.5503 - accuracy: 0.7866 - val_loss: 0.6409 - val_accuracy: 0.7789\n",
      "Epoch 20/50\n",
      "128/128 [==============================] - 191s 1s/step - loss: 0.5201 - accuracy: 0.7981 - val_loss: 0.5552 - val_accuracy: 0.7928\n",
      "Epoch 21/50\n",
      "128/128 [==============================] - 190s 1s/step - loss: 0.4991 - accuracy: 0.8065 - val_loss: 0.6732 - val_accuracy: 0.7662\n",
      "Epoch 22/50\n",
      "128/128 [==============================] - 190s 1s/step - loss: 0.4844 - accuracy: 0.8142 - val_loss: 0.6298 - val_accuracy: 0.7789\n",
      "Epoch 23/50\n",
      "128/128 [==============================] - 191s 1s/step - loss: 0.4818 - accuracy: 0.8145 - val_loss: 0.6420 - val_accuracy: 0.7836\n",
      "Epoch 24/50\n",
      "128/128 [==============================] - 191s 1s/step - loss: 0.4492 - accuracy: 0.8252 - val_loss: 0.4679 - val_accuracy: 0.8380\n",
      "Epoch 25/50\n",
      "128/128 [==============================] - 192s 1s/step - loss: 0.4491 - accuracy: 0.8275 - val_loss: 0.6551 - val_accuracy: 0.7824\n",
      "Epoch 26/50\n",
      "128/128 [==============================] - 191s 1s/step - loss: 0.4308 - accuracy: 0.8356 - val_loss: 0.7710 - val_accuracy: 0.7569\n",
      "Epoch 27/50\n",
      "128/128 [==============================] - 190s 1s/step - loss: 0.4110 - accuracy: 0.8436 - val_loss: 0.5237 - val_accuracy: 0.8160\n",
      "Epoch 28/50\n",
      "128/128 [==============================] - 190s 1s/step - loss: 0.4150 - accuracy: 0.8366 - val_loss: 0.5824 - val_accuracy: 0.7940\n",
      "Epoch 29/50\n",
      "128/128 [==============================] - 191s 1s/step - loss: 0.4014 - accuracy: 0.8487 - val_loss: 0.6836 - val_accuracy: 0.7975\n",
      "Epoch 30/50\n",
      "128/128 [==============================] - 190s 1s/step - loss: 0.3878 - accuracy: 0.8529 - val_loss: 0.5231 - val_accuracy: 0.8380\n",
      "Epoch 31/50\n",
      "128/128 [==============================] - 190s 1s/step - loss: 0.3846 - accuracy: 0.8483 - val_loss: 0.5064 - val_accuracy: 0.8345\n",
      "Epoch 32/50\n",
      "128/128 [==============================] - 192s 1s/step - loss: 0.3741 - accuracy: 0.8580 - val_loss: 0.5808 - val_accuracy: 0.8218\n",
      "Epoch 33/50\n",
      "128/128 [==============================] - 194s 2s/step - loss: 0.3606 - accuracy: 0.8624 - val_loss: 0.5690 - val_accuracy: 0.8252\n",
      "Epoch 34/50\n",
      "128/128 [==============================] - 193s 2s/step - loss: 0.3588 - accuracy: 0.8629 - val_loss: 0.6139 - val_accuracy: 0.8090\n",
      "Epoch 35/50\n",
      "128/128 [==============================] - 191s 1s/step - loss: 0.3450 - accuracy: 0.8693 - val_loss: 0.5736 - val_accuracy: 0.8322\n",
      "Epoch 36/50\n",
      "128/128 [==============================] - 197s 2s/step - loss: 0.3257 - accuracy: 0.8788 - val_loss: 0.7354 - val_accuracy: 0.7755\n",
      "Epoch 37/50\n",
      "128/128 [==============================] - 209s 2s/step - loss: 0.3344 - accuracy: 0.8727 - val_loss: 0.5127 - val_accuracy: 0.8426\n",
      "Epoch 38/50\n",
      "128/128 [==============================] - 191s 1s/step - loss: 0.3273 - accuracy: 0.8766 - val_loss: 0.5983 - val_accuracy: 0.8125\n",
      "Epoch 39/50\n",
      "128/128 [==============================] - 191s 1s/step - loss: 0.3170 - accuracy: 0.8777 - val_loss: 0.6214 - val_accuracy: 0.8125\n",
      "Epoch 40/50\n",
      "128/128 [==============================] - 191s 1s/step - loss: 0.3085 - accuracy: 0.8842 - val_loss: 0.7956 - val_accuracy: 0.7836\n",
      "Epoch 41/50\n",
      "128/128 [==============================] - 191s 1s/step - loss: 0.3081 - accuracy: 0.8841 - val_loss: 0.5390 - val_accuracy: 0.8530\n",
      "Epoch 42/50\n",
      "128/128 [==============================] - 191s 1s/step - loss: 0.2889 - accuracy: 0.8890 - val_loss: 0.5780 - val_accuracy: 0.8356\n",
      "Epoch 43/50\n",
      "128/128 [==============================] - 191s 1s/step - loss: 0.2893 - accuracy: 0.8905 - val_loss: 0.3960 - val_accuracy: 0.8692\n",
      "Epoch 44/50\n",
      "128/128 [==============================] - 187s 1s/step - loss: 0.2856 - accuracy: 0.8921 - val_loss: 0.5508 - val_accuracy: 0.8299\n",
      "Epoch 45/50\n",
      "128/128 [==============================] - 186s 1s/step - loss: 0.2691 - accuracy: 0.8970 - val_loss: 0.5871 - val_accuracy: 0.8206\n",
      "Epoch 46/50\n",
      "128/128 [==============================] - 187s 1s/step - loss: 0.2703 - accuracy: 0.8983 - val_loss: 0.6815 - val_accuracy: 0.8160\n",
      "Epoch 47/50\n",
      "128/128 [==============================] - 191s 1s/step - loss: 0.2768 - accuracy: 0.8957 - val_loss: 0.5304 - val_accuracy: 0.8484\n",
      "Epoch 48/50\n",
      "128/128 [==============================] - 191s 1s/step - loss: 0.2654 - accuracy: 0.8984 - val_loss: 0.4740 - val_accuracy: 0.8634\n",
      "Epoch 49/50\n",
      "128/128 [==============================] - 191s 1s/step - loss: 0.2543 - accuracy: 0.9075 - val_loss: 0.3896 - val_accuracy: 0.8819\n",
      "Epoch 50/50\n",
      "128/128 [==============================] - 195s 2s/step - loss: 0.2567 - accuracy: 0.9051 - val_loss: 0.4309 - val_accuracy: 0.8785\n"
     ]
    }
   ],
   "source": [
    "#Training the model\n",
    "history = model.fit(datagen.flow(X_Train,Y_Train, batch_size=batch_size),\n",
    "                              epochs = epochs, validation_data = (X_Test,Y_Test),\n",
    "                              verbose = 1, steps_per_epoch=X_Train.shape[0] // batch_size)"
   ]
  },
  {
   "cell_type": "code",
   "execution_count": 242,
   "id": "055cf869",
   "metadata": {},
   "outputs": [
    {
     "data": {
      "image/png": "[encoded data removed]",
      "text/plain": [
       "<Figure size 432x288 with 1 Axes>"
      ]
     },
     "metadata": {},
     "output_type": "display_data"
    }
   ],
   "source": [
    "#Plotting the model loss\n",
    "plt.plot(history.history['loss'])\n",
    "plt.plot(history.history['val_loss'])\n",
    "plt.title('Model Loss')\n",
    "plt.ylabel('Loss')\n",
    "plt.xlabel('Epochs')\n",
    "plt.legend(['train', 'test'])\n",
    "plt.savefig('Model_Loss.png')\n",
    "plt.show()"
   ]
  },
  {
   "cell_type": "code",
   "execution_count": 243,
   "id": "592d46e7",
   "metadata": {},
   "outputs": [
    {
     "data": {
      "image/png": "[encoded data removed]",
      "text/plain": [
       "<Figure size 432x288 with 1 Axes>"
      ]
     },
     "metadata": {},
     "output_type": "display_data"
    }
   ],
   "source": [
    "#Plotting the model accuracies\n",
    "plt.plot(history.history['accuracy'])\n",
    "plt.plot(history.history['val_accuracy'])\n",
    "plt.title('Model Accuracy')\n",
    "plt.ylabel('Accuracy')\n",
    "plt.xlabel('Epochs')\n",
    "plt.legend(['train', 'test'])\n",
    "plt.savefig('Model_Accuracy.png')\n",
    "plt.show()"
   ]
  },
  {
   "cell_type": "code",
   "execution_count": 237,
   "id": "a7383b28",
   "metadata": {},
   "outputs": [
    {
     "name": "stdout",
     "output_type": "stream",
     "text": [
      "INFO:tensorflow:Assets written to: /Users/joostberkelbach/Documents/Machine Learning/Model Changed Dataset/assets\n"
     ]
    }
   ],
   "source": [
    "#Saving the model progress\n",
    "from tensorflow import keras\n",
    "model = model\n",
    "model.save('/Users/joostberkelbach/Documents/Machine Learning/Model Changed Dataset')"
   ]
  },
  {
   "cell_type": "code",
   "execution_count": 252,
   "id": "2dfe37b7",
   "metadata": {},
   "outputs": [],
   "source": [
    "# getting predictions on val set.\n",
    "Predictions = model.predict(X_Test)\n",
    "Predictions_digits=np.argmax(Predictions,axis=1)\n",
    "from numpy import asarray\n",
    "from numpy import savetxt\n",
    "\n",
    "savetxt('CNN_Predictions.csv', Predictions, delimiter=',')"
   ]
  },
  {
   "cell_type": "code",
   "execution_count": 248,
   "id": "729e5dd8",
   "metadata": {},
   "outputs": [],
   "source": [
    "#Setting up a confusion matrix\n",
    "def print_confusion_matrix(confusion_matrix, class_names, figsize = (10,7), fontsize=14):\n",
    "    df_cm = pd.DataFrame(\n",
    "        confusion_matrix, index=class_names, columns=class_names, \n",
    "    )\n",
    "    fig = plt.figure(figsize=figsize)\n",
    "    try:\n",
    "        heatmap = sns.heatmap(df_cm, annot=True, fmt=\"d\", cmap=\"Greens\")\n",
    "    except ValueError:\n",
    "        raise ValueError(\"Confusion matrix values must be integers.\")\n",
    "    heatmap.yaxis.set_ticklabels(heatmap.yaxis.get_ticklabels(), rotation=0, ha='right', fontsize=fontsize)\n",
    "    heatmap.xaxis.set_ticklabels(heatmap.xaxis.get_ticklabels(), rotation=0, ha='right', fontsize=fontsize)\n",
    "    plt.ylabel('Truth')\n",
    "    plt.xlabel('Prediction')"
   ]
  },
  {
   "cell_type": "code",
   "execution_count": 249,
   "id": "89f21821",
   "metadata": {},
   "outputs": [
    {
     "data": {
      "image/png": "[encoded data removed]",
      "text/plain": [
       "<Figure size 720x504 with 2 Axes>"
      ]
     },
     "metadata": {},
     "output_type": "display_data"
    }
   ],
   "source": [
    "obtained = []\n",
    "truth = []\n",
    "classes = ['daisy','dandelion','rose','sunflower','tulip']\n",
    "\n",
    "for i in range(len(Predictions)) : \n",
    "    obtained.append(classes[np.argmax(Predictions[i])])\n",
    "    if Y_Test[i][0]==1:\n",
    "        truth.append(classes[0])\n",
    "    elif Y_Test[i][1]==1:\n",
    "        truth.append(classes[1])\n",
    "    elif Y_Test[i][2]==1:\n",
    "        truth.append(classes[2])\n",
    "    elif Y_Test[i][3]==1:\n",
    "        truth.append(classes[3])\n",
    "    elif Y_Test[i][4]==1:\n",
    "        truth.append(classes[4])\n",
    "\n",
    "cm = confusion_matrix(truth,obtained)\n",
    "print_confusion_matrix(cm,['Daisy','Dandelion','Rose','Sunflower','Tulip'])"
   ]
  },
  {
   "cell_type": "code",
   "execution_count": 250,
   "id": "3b6d482f",
   "metadata": {},
   "outputs": [],
   "source": [
    "from sklearn.metrics import f1_score"
   ]
  },
  {
   "cell_type": "code",
   "execution_count": 251,
   "id": "05acd75f",
   "metadata": {},
   "outputs": [
    {
     "name": "stdout",
     "output_type": "stream",
     "text": [
      "F1 score  daisy       0.9064748201438848\n",
      "F1 score  dandelion       0.8904761904761904\n",
      "F1 score  rose       0.843205574912892\n",
      "F1 score  sunflower       0.8881578947368421\n",
      "F1 score  tulip       0.8656036446469249\n"
     ]
    }
   ],
   "source": [
    "#F1 score compiler\n",
    "F1 = f1_score(obtained,truth,average=None)\n",
    "for i in [0,1,2,3,4]:\n",
    "    print(\"F1 score\",\"\",classes[i],\"     \",F1[i])"
   ]
  },
  {
   "cell_type": "code",
   "execution_count": 253,
   "id": "529fc590",
   "metadata": {},
   "outputs": [
    {
     "name": "stdout",
     "output_type": "stream",
     "text": [
      "Recall : [0.91970803 0.82743363 0.84615385 0.91836735 0.90047393]\n",
      "Precision: [0.89361702 0.96391753 0.84027778 0.85987261 0.83333333]\n",
      "Accuracy [0.96990741 0.94675926 0.94791667 0.96064815 0.93171296]\n"
     ]
    }
   ],
   "source": [
    "#Assessment metrics\n",
    "## FP = cm.sum(axis=0) - np.diag(cm)  \n",
    "FN = cm.sum(axis=1) - np.diag(cm)\n",
    "TP = np.diag(cm)\n",
    "TN = cm.sum() - (FP + FN + TP)\n",
    "\n",
    "# Sensitivity, hit rate, recall, or true positive rate\n",
    "TPR = TP/(TP+FN)\n",
    "print(\"Recall : \" + str(TPR))\n",
    "#print(\"Overall Reacll : \" + str(np.sum(TPR)))\n",
    "# Specificity or true negative rate\n",
    "TNR = TN/(TN+FP) \n",
    "# Precision or positive predictive value\n",
    "PPV = TP/(TP+FP)\n",
    "print(\"Precision: \" + str(PPV))\n",
    "#print(\"Overall Precision : \" + str(np.sum(PPV)))\n",
    "# Negative predictive value\n",
    "NPV = TN/(TN+FN)\n",
    "# Fall out or false positive rate\n",
    "FPR = FP/(FP+TN)\n",
    "# False negative rate\n",
    "FNR = FN/(TP+FN)\n",
    "# False discovery rate\n",
    "FDR = FP/(TP+FP)\n",
    "# Positive likelihood ratio\n",
    "LR = TPR/FPR\n",
    "\n",
    "# Overall accuracy\n",
    "ACC = (TP+TN)/(TP+FP+FN+TN)\n",
    "print(\"Accuracy\", ACC)\n",
    "#print(\"Overall Accuracy: \" + str(np.sum(ACC)))"
   ]
  },
  {
   "cell_type": "code",
   "execution_count": 245,
   "id": "9e8321bd",
   "metadata": {},
   "outputs": [],
   "source": [
    "def get_model_memory_usage(batch_size, model):\n",
    "    import numpy as np\n",
    "    try:\n",
    "        from keras import backend as K\n",
    "    except:\n",
    "        from tensorflow.keras import backend as K\n",
    "\n",
    "    shapes_mem_count = 0\n",
    "    internal_model_mem_count = 0\n",
    "    for l in model.layers:\n",
    "        layer_type = l.__class__.__name__\n",
    "        if layer_type == 'Model':\n",
    "            internal_model_mem_count += get_model_memory_usage(batch_size, l)\n",
    "        single_layer_mem = 1\n",
    "        out_shape = l.output_shape\n",
    "        if type(out_shape) is list:\n",
    "            out_shape = out_shape[0]\n",
    "        for s in out_shape:\n",
    "            if s is None:\n",
    "                continue\n",
    "            single_layer_mem *= s\n",
    "        shapes_mem_count += single_layer_mem\n",
    "\n",
    "    trainable_count = np.sum([K.count_params(p) for p in model.trainable_weights])\n",
    "    non_trainable_count = np.sum([K.count_params(p) for p in model.non_trainable_weights])\n",
    "\n",
    "    number_size = 4.0\n",
    "    if K.floatx() == 'float16':\n",
    "        number_size = 2.0\n",
    "    if K.floatx() == 'float64':\n",
    "        number_size = 8.0\n",
    "\n",
    "    total_memory = number_size * (batch_size * shapes_mem_count + trainable_count + non_trainable_count)\n",
    "    gbytes = np.round(total_memory / (1024.0 ** 3), 3) + internal_model_mem_count\n",
    "    return gbytes"
   ]
  },
  {
   "cell_type": "code",
   "execution_count": 246,
   "id": "77780841",
   "metadata": {},
   "outputs": [
    {
     "data": {
      "text/plain": [
       "0.758"
      ]
     },
     "execution_count": 246,
     "metadata": {},
     "output_type": "execute_result"
    }
   ],
   "source": [
    "get_model_memory_usage(batch_size, model)"
   ]
  },
  {
   "cell_type": "code",
   "execution_count": null,
   "id": "b083b6eb",
   "metadata": {},
   "outputs": [],
   "source": []
  }
 ],
 "metadata": {
  "kernelspec": {
   "display_name": "Python 3",
   "language": "python",
   "name": "python3"
  },
  "language_info": {
   "codemirror_mode": {
    "name": "ipython",
    "version": 3
   },
   "file_extension": ".py",
   "mimetype": "text/x-python",
   "name": "python",
   "nbconvert_exporter": "python",
   "pygments_lexer": "ipython3",
   "version": "3.8.8"
  }
 },
 "nbformat": 4,
 "nbformat_minor": 5
}
